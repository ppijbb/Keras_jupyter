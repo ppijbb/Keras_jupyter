{
  "nbformat": 4,
  "nbformat_minor": 0,
  "metadata": {
    "colab": {
      "name": "Algorithm.ipynb",
      "provenance": [],
      "collapsed_sections": [
        "-B4bPb6OcMoA",
        "wZK4KwxIu2GM",
        "fV1i4tD_1tnZ",
        "ygec0xY51vnV",
        "JHCzBo3J1xvF",
        "Ca7PLf0y124G",
        "xhOezBKd1-ud",
        "1z4D_UhR2JtM",
        "jz7MxuLfaT3H",
        "5BVYH3Fl2QNk",
        "Af4r4WN12Rxu",
        "OxmNPudT2ZY2",
        "cn58aZsb2b-N",
        "k-IDMMQb2jbt"
      ],
      "authorship_tag": "ABX9TyMabhP0LD718JxRKhVqTb1e",
      "include_colab_link": true
    },
    "kernelspec": {
      "name": "python3",
      "display_name": "Python 3"
    }
  },
  "cells": [
    {
      "cell_type": "markdown",
      "metadata": {
        "id": "view-in-github",
        "colab_type": "text"
      },
      "source": [
        "<a href=\"https://colab.research.google.com/github/ppijbb/Python_Notebook/blob/main/Algorithm.ipynb\" target=\"_parent\"><img src=\"https://colab.research.google.com/assets/colab-badge.svg\" alt=\"Open In Colab\"/></a>"
      ]
    },
    {
      "cell_type": "markdown",
      "metadata": {
        "id": "Z2zO7E5mZSbA"
      },
      "source": [
        " # 알고리즘-파이썬\n",
        "1. 정렬\n",
        "2. 스택/큐\n",
        "3. 해시\n",
        "4. 힙\n",
        "5. 그리디\n",
        "6. DFS/BFS\n",
        "7. Dynamic Programming\n",
        "8. 그래프\n",
        "9. 이진탐색\n",
        "10. 완전탐색\n",
        "11. Dijkstra, Floyd Warshall, 벨만-포드\n",
        "12. KMP, Manacher(문자열 기초)\n",
        "13. NetworkFlow\n",
        "14. 재귀호출\n",
        "15. Segment Tree, BIT\n",
        "16. MCMF"
      ]
    },
    {
      "cell_type": "markdown",
      "metadata": {
        "id": "-B4bPb6OcMoA"
      },
      "source": [
        "## 정렬"
      ]
    },
    {
      "cell_type": "code",
      "metadata": {
        "id": "u_Zxx5YWjKw0"
      },
      "source": [
        "#@title 버블정렬(Bubble Sort)\n",
        "#@markdown 옆에 있는 값과 비교하여 더 작은 값을 반복적으로 앞으로 보내는 정렬방법. <p> 각 싸이클마다 가장 큰 값이 맨 뒤로 보내진다. <p>  컴퓨터 내부적인 연산이 가장 비효율적으로 일어나게 되어 실제 수행 시간이 가장 느린 안 좋은 알고리즘.<p> <b>시간복잡도 O(N^2)<p>![bubble](https://upload.wikimedia.org/wikipedia/commons/3/37/Bubble_sort_animation.gif)\n",
        "\n",
        "def swap(x, i, j):\n",
        "    x[i], x[j] = x[j], x[i]\n",
        "\n",
        "def bubbleSort(x):\n",
        "    for size in reversed(range(len(x))):\n",
        "        for i in range(size):\n",
        "            if x[i] > x[i+1]:\n",
        "                swap(x, i, i+1)"
      ],
      "execution_count": null,
      "outputs": []
    },
    {
      "cell_type": "code",
      "metadata": {
        "id": "B_38aw03cXP2"
      },
      "source": [
        "#@title 삽입정렬(Insertion Sort)\n",
        "#@markdown 각 원소를 적절한 위치에 삽입하는 방법.<p> 필요한 때에 한해서 삽입을 진행. <p>데이터가 거의 정렬된 상태에서 어떤 알고리즘보다 빠르다.<p><b>시간복잡도 O(N^2)<p>![insertion](https://upload.wikimedia.org/wikipedia/commons/4/42/Insertion_sort.gif)\n",
        "\n",
        "def insertionSort(x):\n",
        "    for size in range(1, len(x)):\n",
        "        val = x[size]\n",
        "        i = size\n",
        "        while i > 0 and x[i-1] > val:\n",
        "            x[i] = x[i-1]\n",
        "            i -= 1\n",
        "        x[i] = val"
      ],
      "execution_count": null,
      "outputs": []
    },
    {
      "cell_type": "code",
      "metadata": {
        "id": "7r108tOeciJN"
      },
      "source": [
        "#@title 셸 정렬(Shell Sort)\n",
        "#@markdown 삽입정렬을 보완한 알고리즘.<p> 정렬해야할 리스트의 일부를 추출하여 부분 리스트를 만듬.<p> 각 회전마다 부분 리스트를 정렬하며 다시 더 적은 개수의 부분 리스트를 만드는 것을 반복.<p>부분 리스트의 개수가 1개가 될 때까지 반복하여 정렬.<p><b>시간복잡도 O(N^1.5)~O(N^2)<p>![shell](https://upload.wikimedia.org/wikipedia/commons/d/d8/Sorting_shellsort_anim.gif)\n",
        "\n",
        "def gapInsertionSort(x, start, gap):\n",
        "    for target in range(start+gap, len(x), gap):\n",
        "        val = x[target]\n",
        "        i = target\n",
        "        while i > start:\n",
        "            if x[i-gap] > val:\n",
        "                x[i] = x[i-gap]\n",
        "            else:\n",
        "                break\n",
        "            i -= gap\n",
        "        x[i] = val\n",
        "\n",
        "def shellSort(x):\n",
        "    gap = len(x) // 2\n",
        "    while gap > 0:\n",
        "        for start in range(gap):\n",
        "            gapInsertionSort(x, start, gap)\n",
        "        gap = gap // 2"
      ],
      "execution_count": null,
      "outputs": []
    },
    {
      "cell_type": "code",
      "metadata": {
        "id": "tdxoZ_fbcsfV"
      },
      "source": [
        "#@title 퀵 정렬(Quick Sort)\n",
        "#@markdown 대표적 분할정복 알고리즘 <p> 특정한 값을 기준으로 큰 숫자와 작은 숫자를 비교한 뒤 배열을 반으로 나눔.<p> 특정 기준값(피봇 pivot)을 설정하여 나눠진 배열을 정렬하여 합침.<p> <b>시간복잡도 O(N*logN) ~ O(N^2)<p> ![quick](https://upload.wikimedia.org/wikipedia/commons/6/6a/Sorting_quicksort_anim.gif)\n",
        "\n",
        "def swap(x, i, j):\n",
        "    x[i], x[j] = x[j], x[i]\n",
        "\n",
        "def pivotFirst(x, lmark, rmark):\n",
        "    pivot_val = x[lmark]\n",
        "    pivot_idx = lmark\n",
        "    while lmark <= rmark:\n",
        "        while lmark <= rmark and x[lmark] <= pivot_val:\n",
        "            lmark += 1\n",
        "        while lmark <= rmark and x[rmark] >= pivot_val:\n",
        "            rmark -= 1\n",
        "        if lmark <= rmark:\n",
        "            swap(x, lmark, rmark)\n",
        "            lmark += 1\n",
        "            rmark -= 1\n",
        "    swap(x, pivot_idx, rmark)\n",
        "    return rmark\n",
        "\n",
        "def quickSort(x, pivotMethod=pivotFirst):\n",
        "    def _qsort(x, first, last):\n",
        "        if first < last:\n",
        "            splitpoint = pivotMethod(x, first, last)\n",
        "            _qsort(x, first, splitpoint-1)\n",
        "            _qsort(x, splitpoint+1, last)\n",
        "    _qsort(x, 0, len(x)-1)"
      ],
      "execution_count": null,
      "outputs": []
    },
    {
      "cell_type": "code",
      "metadata": {
        "id": "T0r3ARtpcmwB"
      },
      "source": [
        "#@title 병합정렬(Merge Sort)\n",
        "#@markdown 분할정복 방법을 채택한 정렬 알고리즘. <p>개별 원소까지 나눈 이후 병합하며 정렬. <p> <b>시간복잡도 O(N*logN) <p> ![merge](https://upload.wikimedia.org/wikipedia/commons/c/cc/Merge-sort-example-300px.gif)\n",
        "\n",
        "def mergeSort(x):\n",
        "    if len(x) > 1:\n",
        "        mid = len(x)//2\n",
        "        lx, rx = x[:mid], x[mid:]\n",
        "        mergeSort(lx)\n",
        "        mergeSort(rx)\n",
        "\n",
        "        li, ri, i = 0, 0, 0\n",
        "        while li < len(lx) and ri < len(rx):\n",
        "            if lx[li] < rx[ri]:\n",
        "                x[i] = lx[li]\n",
        "                li += 1\n",
        "            else:\n",
        "                x[i] = rx[ri]\n",
        "                ri += 1\n",
        "            i += 1\n",
        "        x[i:] = lx[li:] if li != len(lx) else rx[ri:]"
      ],
      "execution_count": null,
      "outputs": []
    },
    {
      "cell_type": "code",
      "metadata": {
        "id": "KHxR69DEcyT2"
      },
      "source": [
        "#@title 힙 정렬(Heap Sort)\n",
        "#@markdown 힙 트리 구조를 이용한 정렬방법. <p> 모든 노드의 자식노드가 2개 이하인 트리 구조의 형태로 만들어 정렬.<p> 최소값이나 최대값을 빠르게 찾아 완전이진트리 구성을 통한 정렬. <p><b>시간복잡도 O(N*logN) <p>![heap](https://upload.wikimedia.org/wikipedia/commons/1/1b/Sorting_heapsort_anim.gif)\n",
        "\n",
        "def heapify(unsorted, index, heap_size):\n",
        "    largest = index\n",
        "    left_index = 2 * index + 1\n",
        "    right_index = 2 * index + 2\n",
        "    if left_index < heap_size and unsorted[left_index] > unsorted[largest]:\n",
        "        largest = left_index\n",
        "    if right_index < heap_size and unsorted[right_index] > unsorted[largest]:\n",
        "        largest = right_index\n",
        "    if largest != index:\n",
        "        unsorted[largest], unsorted[index] = unsorted[index], unsorted[largest]\n",
        "        heapify(unsorted, largest, heap_size)\n",
        "\n",
        "def heap_sort(unsorted):\n",
        "    n = len(unsorted)\n",
        "    for i in range(n // 2 - 1, -1, -1):\n",
        "        heapify(unsorted, i, n)\n",
        "    for i in range(n - 1, 0, -1):\n",
        "        unsorted[0], unsorted[i] = unsorted[i], unsorted[0]\n",
        "        heapify(unsorted, 0, i)\n",
        "    return unsorted"
      ],
      "execution_count": null,
      "outputs": []
    },
    {
      "cell_type": "code",
      "metadata": {
        "id": "Dm2fzTaCi8LA"
      },
      "source": [
        "#@title 계수 정렬(Counting Sort)\n",
        "#@markdown 범위조건이 있는 경우에 한하여 굉장히 빠른 알고리즘.<p> 단순하게 크기를 기준으로 세는 알고리즘. <p> 범위 내의 크기를 기준으로 개수만 세어주면 되는 방법. <p><b>시간복잡도 O(N)<p>![counting](https://upload.wikimedia.org/wikipedia/commons/6/60/Counting_Sort_Animation.gif)\n",
        "\n",
        "def counting_sort(A, k):   \n",
        "    B = [-1] * len(A)    \n",
        "    C = [0] * (k + 1)\n",
        "    \n",
        "    for a in A:\n",
        "        C[a] += 1\n",
        "    \n",
        "    for i in range(k):\n",
        "        C[i+1] += C[i]  \n",
        "\n",
        "    for j in reversed(range(len(A))):\n",
        "    \tB[C[A[j]] - 1] = A[j]\n",
        "    \tC[A[j]] -= 1\n",
        "\n",
        "    return B"
      ],
      "execution_count": null,
      "outputs": []
    },
    {
      "cell_type": "markdown",
      "metadata": {
        "id": "wZK4KwxIu2GM"
      },
      "source": [
        "## 스택/큐"
      ]
    },
    {
      "cell_type": "code",
      "metadata": {
        "id": "I8asJaCq19Od"
      },
      "source": [
        "#@title 스택(Stack)\n",
        "#@markdown FILO구조로, 입력을 받는 순서대로 저장되며 맨 마지막에 입력된 데이터부터 되는 형태의 자료구조.<p> 삽입을 push, 꺼내는 것을 pop 이라고 한다. <p> 스택이 꽉찬 상태에서 데이터가 push되면 overflow, 길이가 0이하에서 pop을 시도하면 underflow가 발생.<p> 스택은 pop을 해야 최신 데이터를 확인할 수 있으나, peek을 통하여 최근 저장 자료를 엿볼 수 있다.<p><b> 시간복잡도 push, pop, peek 모두 O(1) <p>![stack](https://upload.wikimedia.org/wikipedia/commons/2/29/Data_stack.svg)\n",
        "\n",
        "class Stack(object):\n",
        "    def __init__(self, limit = 10):\n",
        "        self.stack = []\n",
        "        self.limit = limit\n",
        "\n",
        "    def __str__(self):\n",
        "        return ' '.join([str(i) for i in self.stack])\n",
        "\n",
        "    def push(self, data):\n",
        "        if len(self.stack) >= self.limit:\n",
        "            print('Stack Overflow')\n",
        "        else:\n",
        "            self.stack.append(data)\n",
        "\n",
        "    def pop(self):\n",
        "        if len(self.stack) <= 0:\n",
        "            return -1\n",
        "        else:\n",
        "            return self.stack.pop()            \n",
        "\n",
        "    def peek(self):\n",
        "        if len(self.stack) <= 0:\n",
        "            return -1\n",
        "        else:\n",
        "            return self.stack[len(self.stack) - 1]        "
      ],
      "execution_count": null,
      "outputs": []
    },
    {
      "cell_type": "code",
      "metadata": {
        "id": "SwTaabDU6e9H"
      },
      "source": [
        "#@title 큐(Queue)\n",
        "#@markdown FIFO구조로 스택과 달리 맨 처음 들어간 데이터부터 출력이 되는 구조.<p> 입력을 enqueue, 출력을 dequeue.<p> 큐의 맨 앞을 head, 맨 뒤를 tail이라 하며 head와 tail을 이어 Circular Queue를 구성할 수 있다. <p><b>시간복잡도 enequeue, dequeue 모두 O(1)<p>![queue](https://media.vlpt.us/post-images/pa324/392c0570-9fa4-11e9-b079-63bbcd31f7a4/image.png)\n",
        "\n",
        "class Queue:\n",
        "    def __init__(self):\n",
        "        self.Queue_item = []\n",
        "        \n",
        "    def Enqueue(self,x):\n",
        "        self.Queue_item.append(x)\n",
        "        return None    \n",
        "\n",
        "    def Dequeue(self):\n",
        "        item_length = len(self.Queue_item)\n",
        "        if item_length < 1:\n",
        "            print(\"Queue is empty!\")\n",
        "            return False\n",
        "        result = self.Queue_item[0]\n",
        "        del self.Queue_item[0]\n",
        "        return result\n",
        "    \n",
        "    def isEmpty(self):\n",
        "        return not self.Queue_item"
      ],
      "execution_count": null,
      "outputs": []
    },
    {
      "cell_type": "markdown",
      "metadata": {
        "id": "fV1i4tD_1tnZ"
      },
      "source": [
        "##해시"
      ]
    },
    {
      "cell_type": "code",
      "metadata": {
        "id": "1Xrd6gj718s1"
      },
      "source": [
        "#@title 해시(Hash)\n",
        "#@markdown 임의 값을 고정 길이로 변환 하는 것. <p> 매핑 전 원래의 데이터 값을 키(key), 매핑 후의 데이터 값을 해시값(hash value), 매핑 자체를 해싱(hashing)이라 함.<p> 서로 다른 두 개의 키에 대한 동일한 해시값을 내는 해시충돌(collision)이라함.<p> 해시 테이블(hash table)은 키 값의 연산에 의해 직접 접근이 가능한 데이터 구조를 말함.<p> 해시충돌이 발생할 가능성이 있어도 해시테이블을 사용하는 이유는 적은 리소스로 많은 데이터를 효율적으로 관리하기 위해서.<p> 해시함수는 언제나 동일한 해시값을 리턴하고 해당 색인만 알면 해시테이블의 크기와 상관없이 데이터를 대단히 빠르게 접근할 수 있으며, 색인은 계산이 간단한 함수고 작동하여 매우 효율적.<p><b>시간복잡도 데이터 액세스시 O(1)~O(N) <p> ![hash](https://i.imgur.com/NnEBDcX.png)\n",
        "\n",
        "hash_table = list([0 for i in range(8)])\n",
        "\n",
        "def get_key(data):\n",
        "    return hash(data)\n",
        "\n",
        "def hash_function(key):\n",
        "    return key % 8\n",
        "\n",
        "def save_data_hash_table(data, value):\n",
        "    hash_address = hash_function(get_key(data))\n",
        "    hash_table[hash_address] = value\n",
        "    \n",
        "def get_data_hash_table(data):\n",
        "    hash_address = hash_function(get_key(data))    \n",
        "    return hash_table[hash_address]"
      ],
      "execution_count": null,
      "outputs": []
    },
    {
      "cell_type": "markdown",
      "metadata": {
        "id": "s-TKkxZ5YeUp"
      },
      "source": [
        "### 충돌(Collision)해결을 위한 해쉬함수\n",
        "해시충돌을 방지하기 위해서는 좋은 해시함수를 사용하는 것이 좋다."
      ]
    },
    {
      "cell_type": "code",
      "metadata": {
        "id": "L-7EPj2XVqjo"
      },
      "source": [
        "#@title Chaning 기법 - 개방 해싱(Open Hashing)\n",
        "#@markdown 해시테이블 저장공간 외의 공간을 활용하는 기법.<p> 충돌이 발생하면 연결 리스트를 이용해 데이터를 추가로 뒤에 연결시켜 저장하는 방법.\n",
        "\n",
        "hash_table = list([None for i in range(8)])\n",
        "\n",
        "def get_key(data):\n",
        "    return hash(data)\n",
        "\n",
        "def hash_function(key):\n",
        "    return key % 8\n",
        "\n",
        "def save_data_hash_table(data, value):\n",
        "    index_key = get_key(data)\n",
        "    hash_address = hash_function(index_key)\n",
        "    if hash_table[hash_address] != None:\n",
        "        for index in range(len(hash_table[hash_address])):\n",
        "            if hash_table[hash_address][index][0] == index_key:\n",
        "                hash_table[hash_address][index][1] = value\n",
        "                return\n",
        "        hash_table[hash_address].append([index_key, value])\n",
        "    else:\n",
        "        hash_table[hash_address] = [[index_key, value]]\n",
        "    \n",
        "def get_data_hash_table(data):\n",
        "    index_key = get_key(data)\n",
        "    hash_address = hash_function(index_key)\n",
        "    if hash_table[hash_address] != None:\n",
        "        for index in range(len(hash_table[hash_address])):\n",
        "            if hash_table[hash_address][index][0] == index_key:\n",
        "                return hash_table[hash_address][index][1]\n",
        "        return None\n",
        "    else:\n",
        "        return None"
      ],
      "execution_count": null,
      "outputs": []
    },
    {
      "cell_type": "code",
      "metadata": {
        "id": "aB_ZTdyEY8aR"
      },
      "source": [
        "#@title Linear Probing 기법 - 폐쇄해싱(Close Hashing)\n",
        "#@markdown 해시테이블 저장공간 안에서 충돌을 해결하는 방법.<p> 충돌이 생기면 해당 hash address의 다음 address 부터 맨 처음 나오는 빈공간에 저장하는 기법.\n",
        "\n",
        "hash_table = list([0 for i in range(8)])\n",
        "\n",
        "def get_key(data):\n",
        "    return hash(data)\n",
        "\n",
        "def hash_function(key):\n",
        "    return key % 8\n",
        "\n",
        "def save_data(data, value):\n",
        "    index_key = get_key(data)\n",
        "    hash_address = hash_function(index_key)\n",
        "    if hash_table[hash_address] != 0:\n",
        "        for index in range(hash_address, len(hash_table)):\n",
        "            if hash_table[index] == 0:\n",
        "                hash_table[index] = [index_key, value]\n",
        "                return\n",
        "            elif hash_table[index][0] == index_key:\n",
        "                hash_table[index][1] = value\n",
        "                return\n",
        "    else:\n",
        "        hash_table[hash_address] = [index_key, value]\n",
        "\n",
        "\n",
        "def read_data(data):\n",
        "    index_key = get_key(data)\n",
        "    hash_address = hash_function(index_key)\n",
        "\n",
        "    if hash_table[hash_address] != 0:\n",
        "        for index in range(hash_address, len(hash_table)):\n",
        "            if hash_table[index] == 0:\n",
        "                return None\n",
        "            elif hash_table[index][0] == index_key:\n",
        "                return hash_table[index][1]\n",
        "    else:\n",
        "        return None\n"
      ],
      "execution_count": null,
      "outputs": []
    },
    {
      "cell_type": "markdown",
      "metadata": {
        "id": "ygec0xY51vnV"
      },
      "source": [
        "##힙"
      ]
    },
    {
      "cell_type": "code",
      "metadata": {
        "id": "5G1cLlwu18Q9"
      },
      "source": [
        "#@title 힙(Heap)\n",
        "#@markdown 최대값 및 최소값을 찾아내는 연산을 빠르게 하기 위해 고안된 완전이진트리의 자료구조.<p> 부모 노드의 키 값이 자식노드의 키값보다 항상 큰 힙을 '최대힙'.<p> 부모노드의 키 값이 자식노드의 키 값보다 항상 작은 힙을 '최소힙'.<p> 원소값의 대소 관계는 오로지 부모노드와 자식노드 간에만 성립.<p> 형제 노드 사이의 대소관계는 정해지지 않음.<p> <b> 시간복잡도 삽입, 삭제 모두 O(logN) <p> ![heap](https://img1.daumcdn.net/thumb/R1280x0/?scode=mtistory2&fname=https%3A%2F%2Fblog.kakaocdn.net%2Fdn%2Fu4CSe%2FbtqyI2rpbqO%2FcUGUWe3rnryXzORUjn1Vl1%2Fimg.png)\n",
        "\n",
        "class MinHeap: \n",
        "    def __init__(self):\n",
        "        self.queue = [None]\n",
        "    @staticmethod\n",
        "    def parent(index): \n",
        "        return index/2\n",
        "\n",
        "    def insert(self, n):\n",
        "        self.queue.append(n)\n",
        "        i = len(self.queue)-1\n",
        "        while i>1:\n",
        "            parent = self.parent(i) \n",
        "            if self.queue[i] < self.queue[parent]: \n",
        "                self.swap(i, parent)\n",
        "                i = parent\n",
        "            else:\n",
        "                break  \n",
        "    def delete(self):\n",
        "        self.swap(1,len(self.queue)-1)\n",
        "        self.queue.pop(len(self.queue)-1)\n",
        "        self.minHeapify(1)\n",
        "\n",
        "    @staticmethod\n",
        "    def leftchild(index):\n",
        "        return index*2\n",
        "\n",
        "    @staticmethod\n",
        "    def rightchild(index):\n",
        "        return index*2 + 1\n",
        "\n",
        "    def minHeapify(self, i):\n",
        "        left = self.leftchild(i)\n",
        "        right = self.rightchild(i)\n",
        "        smallest = i\n",
        "        if left <= len(self.queue)-1 and self.queue[left] < self.queue[smallest]:\n",
        "            smallest = left\n",
        "        if right <= len(self.queue)-1 and self.queue[right] < self.queue[smallest]:\n",
        "            smallest = right\n",
        "        if smallest != i:\n",
        "            self.swap(i, smallest)\n",
        "            self.minHeapify(smallest)"
      ],
      "execution_count": null,
      "outputs": []
    },
    {
      "cell_type": "markdown",
      "metadata": {
        "id": "JHCzBo3J1xvF"
      },
      "source": [
        "## 그리디"
      ]
    },
    {
      "cell_type": "code",
      "metadata": {
        "id": "RsHJlQFm17xD"
      },
      "source": [
        "#@title 탐욕 알고리즘(Greedy Algorithm)\n",
        "#@markdown 무조건 큰 경우대로, 무조건 작은 경우대로, 무조건 긴 경우대로, 무조건 짧은 경우대로 등 극단적으로 문제에 접근하는 방법. <p> 즉, 매순간 최적이라 생각되는 것을 선택해나가는 방법.<p> 그리디 알고리즘은 근사치 추정에 활용되며 반드시 최적의 해를 구할 수 있는  방법이 아니고 최적의 해에 가까운 값을 구하는 방법 중에 하나.<p> 그리디 알고리즘으로 답을 찾을 수 있는 상황은 매번 최적의 선택을 하는 것이 영원히 최적의 선택이 되어야 하는 경우이다. <p> 탐욕스러운 선택 조건(Greedy choice proeprty), 최적 부분 구조 조건(Optimal Substructe)의 경우 그리디 알고리즘을 적용할 수 있다.<p>![greedy](http://www.skby.net/blog/wp-content/uploads/2018/11/1-36.png)\n",
        "\n",
        "# 대표적인 그리디 알고리즘 - 동전 선택 문제\n",
        "def min_coin_count(value, coin_list):\n",
        "    total_coin_count = 0\n",
        "    details = list()\n",
        "    coin_list.sort(reverse=True)\n",
        "    for coin in coin_list:\n",
        "        coin_num = value // coin\n",
        "        total_coin_count += coin_num\n",
        "        value -= coin_num * coin\n",
        "        details.append([coin, coin_num])\n",
        "    return total_coin_count, details\n",
        "\n",
        "# 대표적인 그리디 알고리즘 - 부분 배낭 문제\n",
        "def get_max_value(data_list, capacity):\n",
        "    data_list = sorted(data_list, key=lambda x: x[1] / x[0], reverse=True)\n",
        "    total_value = 0\n",
        "    details = list()\n",
        "    \n",
        "    for data in data_list:\n",
        "        if capacity - data[0] >= 0:\n",
        "            capacity -= data[0]\n",
        "            total_value += data[1]\n",
        "            details.append([data[0], data[1], 1])\n",
        "        else:\n",
        "            fraction = capacity / data[0]\n",
        "            total_value += data[1] * fraction\n",
        "            details.append([data[0], data[1], fraction])\n",
        "            break\n",
        "    return total_value, details"
      ],
      "execution_count": null,
      "outputs": []
    },
    {
      "cell_type": "markdown",
      "metadata": {
        "id": "Ca7PLf0y124G"
      },
      "source": [
        "##DFS/BFS"
      ]
    },
    {
      "cell_type": "code",
      "metadata": {
        "id": "cCYDj0qo2rlc"
      },
      "source": [
        "#@markdown ![bfsdfs](https://t1.daumcdn.net/cfile/tistory/23062A3E591DC9C330)\n",
        "graph_list = {1: set([3, 4]),\n",
        "              2: set([3, 4, 5]),\n",
        "              3: set([1, 5]),\n",
        "              4: set([1]),\n",
        "              5: set([2, 6]),\n",
        "              6: set([3, 5])}\n",
        "root_node = 1"
      ],
      "execution_count": null,
      "outputs": []
    },
    {
      "cell_type": "code",
      "metadata": {
        "id": "aXLvY03Kn30V"
      },
      "source": [
        "#@title 너비우선탐색(Breath First Serarch)\n",
        "#@markdown 탐색을 할 때, 너비를 우선으로 탐색을 수행하는 알고리즘. <p> 맹목적인 탐색을 하고자 할 때 사용할 수 있는 탐색기법.<p> 최단경로를 찾아준다는 점에서 최단길이를 보장해야 할 때 주로 사용함.\n",
        "\n",
        "from collections import deque\n",
        "\n",
        "def BFS_with_adj_list(graph, root):\n",
        "    visited = []\n",
        "    queue = deque([root])\n",
        "\n",
        "    while queue:\n",
        "        n = queue.popleft()\n",
        "        if n not in visited:\n",
        "            visited.append(n)\n",
        "            queue += graph[n] - set(visited)\n",
        "    return visited\n",
        "  \n",
        "print(BFS_with_adj_list(graph_list, root_node))"
      ],
      "execution_count": null,
      "outputs": []
    },
    {
      "cell_type": "code",
      "metadata": {
        "id": "OWZksX7x15RF"
      },
      "source": [
        "#@title 깊이우선탐색(Depth First Search)\n",
        "#@markdown 너비우선탐색에서 는 큐, 깊이우선탐색에서는 스택이 사용된다. <p> 스택을 사용하지 않아도 되는데, 컴퓨터는 구조적으로 항상 스택을 사용하기 때문.<p> 스택의 동작을 구현하는 것 보다 재귀함수를 사용하는 것이 좋음.\n",
        "\n",
        "from collections import deque\n",
        "\n",
        "def DFS_with_adj_list(graph, root):\n",
        "    visited = []\n",
        "    stack = [root]\n",
        "\n",
        "    while stack:\n",
        "        n = stack.pop()\n",
        "        if n not in visited:\n",
        "            visited.append(n)\n",
        "            stack += graph[n] - set(visited)\n",
        "    return visited\n",
        "\n",
        "print(BFS_with_adj_list(graph_list, root_node))"
      ],
      "execution_count": null,
      "outputs": []
    },
    {
      "cell_type": "code",
      "metadata": {
        "id": "mXmcNpUQ7RdE"
      },
      "source": [
        "#@title 예제\n",
        "\n",
        "class Tree(object):\n",
        "    def __init__(self, x, l=None, r=None): # 'None' means empty Node\n",
        "        self.x = x\t# value of Node\n",
        "        self.l = l\t# left child of Node\n",
        "        self.r = r\t# right child of Node\n",
        "T = Tree(4, Tree(5, Tree(4, Tree(5, None, None), None), None), Tree(6, Tree(1, None, None), Tree(6, None, None)))\n",
        "\n",
        "#@markdown ![image](https://user-images.githubusercontent.com/11629647/56787599-fede9200-6837-11e9-945c-6c56e0f32f7a.png) <p> 다음과 같은 트리의 루트노드부터 리프노드까지의 경로 중 가장 다양한 값을 가진 경로에서 볼 수 있는 값의 개수를 구하는 문제.<p> DFS를 통해 쉽게 풀 수 있다.\n",
        "\n",
        "def solution(T):\n",
        "    distinct = {1: set([])}\n",
        "    stack = [(T, [T], set([T.x]))]\n",
        "    i = 1  # number of path\n",
        "    while stack:  # DFS\n",
        "        n, path, value = stack.pop()\n",
        "        if n.l == None and n.r == None:  # leaf node\n",
        "            distinct[i] = value\n",
        "            i = i + 1\n",
        "        else:\n",
        "            if n.r != None:\n",
        "                stack.append((n.r, path + [n.r], value | set([n.r.x])))\n",
        "            if n.l != None:\n",
        "                stack.append((n.l, path + [n.l], value | set([n.l.x])))\n",
        "\n",
        "    answer = 1\n",
        "\n",
        "    for key in distinct.keys():\n",
        "        temp = len(distinct[key])\n",
        "        if temp > answer:\n",
        "            answer = temp\n",
        "    print(distinct)\n",
        "    return answer\n"
      ],
      "execution_count": null,
      "outputs": []
    },
    {
      "cell_type": "markdown",
      "metadata": {
        "id": "xhOezBKd1-ud"
      },
      "source": [
        "##Dynamic Progmramming"
      ]
    },
    {
      "cell_type": "code",
      "metadata": {
        "id": "Jhd0mGsf2JAk"
      },
      "source": [
        "#@title 동적프로그래밍(Dynamic Programming)\n",
        "#@markdown 하나의 문제를 단 한 번만 풀도록 하는 알고리즘. <p> 한 번 푼 것을 여러번 반복하는 비효율적인 알고리즘을 개선하는 방법.<p> 분할정복을 이용하는 알고리즘에서 문제를 매번 재계산 하지 않고 값을 저장해 두었다가 재사용하는 기법(메모이제이션 Memoization). \n",
        "\n",
        "# 피보나치 수열 문제\n",
        "def fibonacci(n):\n",
        "    if n < 2:\n",
        "        return n\n",
        "    return fibonacci(n-1) + fibonacci(n-2)\n",
        "\n",
        "# DP 적용\n",
        "memo = {1:1, 2:1}\n",
        "def fibonacci(n):\n",
        "    if n == 0:\n",
        "        return 0\n",
        "    if n not in memo:\n",
        "        memo[n] = fibonacci(n-1) + fibonacci(n-2)\n",
        "    return memo[n]\n",
        "\n",
        "# Fast Multilpcation\n",
        "def fibonacci(n):\n",
        "    a, b = 1, 0\n",
        "    for i in range(n):\n",
        "        a, b = b, a + b\n",
        "    return b"
      ],
      "execution_count": null,
      "outputs": []
    },
    {
      "cell_type": "markdown",
      "metadata": {
        "id": "1z4D_UhR2JtM"
      },
      "source": [
        "## 그래프"
      ]
    },
    {
      "cell_type": "markdown",
      "metadata": {
        "id": "xNaL3ngqShgU"
      },
      "source": [
        "### 그래프(Graph)\n",
        "정점과 간선들로 이루어진 집합.<p> 그래프는 간선리스트 , 인접행렬, 인접리스트로 표현한다.<p> 간선리스트는 배열에 간선들을 저장하는 것인데, 한 정점의 간선에 대한 정보를 얻으려면 모든 간선리스트를 탐색해야 하기 때문에, 벨만-포드/크루스칼 알고리즘 같은 일부 알고리즘이 아니면 사용하지 않음.<p> 인접행렬은 N개의 정점을 가진 그래프에서 N x N 행렬을 만들어 모든 간선을 표시하는 방법으로 간선의 수가 많던 적던 N x N 크기의 공간을 사용하기 때문에 간선의 수가 적은 경우 매우 비효율적임.<p> 인접리스트는 가장 많이 사용되는 그래프 표현 방식으로 1차원 배열에서 배열의 요소로 각 배열 인덱스가 사용하는 간선의 정보를 동적배열로 생성하여 저장하는 방식.\n"
      ]
    },
    {
      "cell_type": "markdown",
      "metadata": {
        "id": "jz7MxuLfaT3H"
      },
      "source": [
        "### 그래프 탐색기법\n",
        "![method](https://mblogthumb-phinf.pstatic.net/MjAxNzAxMzFfODUg/MDAxNDg1ODQzNTkyNjkw.SzK-2vES5pQG8fCS9Z8_uRSEILUQmUNADX8S6RiXcwkg.o7sT5ynV52o-63JvEZEuIZlP4FUA3QDrxIjAF8s7AOgg.JPEG.occidere/%25EA%25B7%25B8%25EB%259E%2598%25ED%2594%2584%25ED%258A%25B9%25EC%25A7%2595%25ED%2591%259C.JPG?type=w800)"
      ]
    },
    {
      "cell_type": "code",
      "metadata": {
        "id": "Iruvji4Sp2h8"
      },
      "source": [
        "#@title 최소신장트리(Minimun Spanning Tree, MST)\n",
        "#@markdown 신장트리(spanning tree)는 그래프의 모든 노드가 연결되어 있으며 트리의 속성을 만족하는 그래프.<p> 최소신장트리는 신장트리 중 간선의 가중치 합이 최소인 신장트리를 말함.<p> 대표적으로 크루스칼(Kruskal) 알고리즘과 프림(Prim)알고리즘이 있다.<p> 크루스칼 알고리즘은 탐욕 알고리즘을 기반으로 하고 있다.<p> 모든 정점을 독립적인 집합으로 만들고 간선을 비용 기준으로 정렬하여 비용이 작은 간선부터 양 끝의 두 정점을 비교한다.<p> 두 정점의 최상위 정점을 확인하고 서로 다를 경우 두 정점을 연결한다. <p> 프림 알고리즘은 시작 정점을 선택한 후, 정점에 인접한 간선 중 최소 간선으로 연결된 정점을 선택하고, 해당 정점에서 다시 최소 간선으로 연결된 정점을 선택하는 방식으로 최소신장트리를 확장해 나가는 방식. <p> 크루스칼 알고리즘은 가장 가중치가 작은 간선부터 선택을 하며 프림 알고리즘은 특정 정점에서 시작해 해당 정점의 가장 가중치가 작은 간선을 선택해 간선으로 연결된 정점들 중 가중치가 가장 작은 간선을 선택한다는 차이가 있음. \n",
        "\n",
        "# Kruskal's \n",
        "\n",
        "parent = dict()\n",
        "rank = dict()\n",
        "\n",
        "def find(node):\n",
        "    # path compression 기법\n",
        "    if parent[node] != node:\n",
        "        parent[node] = find(parent[node])\n",
        "    return parent[node]\n",
        "\n",
        "def union(node_v, node_u):\n",
        "    root1 = find(node_v)\n",
        "    root2 = find(node_u)\n",
        "    \n",
        "    # union-by-rank 기법\n",
        "    if rank[root1] > rank[root2]:\n",
        "        parent[root2] = root1\n",
        "    else:\n",
        "        parent[root1] = root2\n",
        "        if rank[root1] == rank[root2]:\n",
        "            rank[root2] += 1\n",
        "           \n",
        "def make_set(node):\n",
        "    parent[node] = node\n",
        "    rank[node] = 0\n",
        "\n",
        "def kruskal(graph):\n",
        "    mst = list()\n",
        "\n",
        "    for node in graph['vertices']:\n",
        "        make_set(node)\n",
        "\n",
        "    edges = graph['edges']\n",
        "    edges.sort()\n",
        "\n",
        "    for edge in edges:\n",
        "        weight, node_v, node_u = edge\n",
        "        if find(node_v) != find(node_u):\n",
        "            union(node_v, node_u)\n",
        "            mst.append(edge)\n",
        "    \n",
        "    return mst\n",
        "    \n",
        "# Prim's\n",
        "\n",
        "from heapdict import heapdict\n",
        "\n",
        "def prim(graph, start):\n",
        "    mst, keys, pi, total_weight = list(), heapdict(), dict(), 0\n",
        "    for node in graph.keys():\n",
        "        keys[node] = float('inf')\n",
        "        pi[node] = None\n",
        "    keys[start], pi[start] = 0, start\n",
        "\n",
        "    while keys:\n",
        "        current_node, current_key = keys.popitem()\n",
        "        mst.append([pi[current_node], current_node, current_key])\n",
        "        total_weight += current_key\n",
        "        for adjacent, weight in mygraph[current_node].items():\n",
        "            if adjacent in keys and weight < keys[adjacent]:\n",
        "                keys[adjacent] = weight\n",
        "                pi[adjacent] = current_node\n",
        "    return mst, total_weight\n"
      ],
      "execution_count": null,
      "outputs": []
    },
    {
      "cell_type": "markdown",
      "metadata": {
        "id": "yxKSPdX6frL1"
      },
      "source": [
        "##이진탐색"
      ]
    },
    {
      "cell_type": "code",
      "metadata": {
        "id": "Nbd9QWWefu_o"
      },
      "source": [
        "#@title 이진탐색(Binary Seach)\n",
        "#@markdown 오름차순으로 정렬된 배열에서 타겟을 찾는 알고리즘.<p> 반드시 정렬된 상태에서 시작해야함.<p> O(log N)을 보장. <p> ![binaryseach](https://media.vlpt.us/images/madfinger/post/45278832-fcc8-4575-bb9c-955c352ba3e7/image.png)\n",
        "\n",
        "# 정방향으로 푸는 법\n",
        "def binary_search(target, data):\n",
        "    data.sort()\n",
        "    start = 0\n",
        "    end = len(data) - 1\n",
        "\n",
        "    while start <= end:\n",
        "        mid = (start + end) // 2\n",
        "\n",
        "        if data[mid] == target:\n",
        "            return mid\n",
        "        elif data[mid] < target:\n",
        "            start = mid + 1\n",
        "        else:\n",
        "            end = mid -1\n",
        "\n",
        "    return None\n",
        "\n",
        "#재귀함수이용\n",
        "def binarySearch(array, target, left, right):\n",
        "    middle_idx = (left+right)//2\n",
        "    print(middle_idx)\n",
        "    middle = array[middle_idx]\n",
        "    if target == middle:\n",
        "        print('answer {}'.format(middle_idx))\n",
        "    elif middle > target:\n",
        "        binarySearch(array, target,left,middle_idx-1)\n",
        "    elif middle < target:\n",
        "        binarySearch(array, target,middle_idx+1,right)\n",
        "    else: \n",
        "        return False"
      ],
      "execution_count": null,
      "outputs": []
    },
    {
      "cell_type": "markdown",
      "metadata": {
        "id": "5BVYH3Fl2QNk"
      },
      "source": [
        "##완전탐색"
      ]
    },
    {
      "cell_type": "code",
      "metadata": {
        "id": "3CzXv49cfmoH"
      },
      "source": [
        "#@title 완전탐색(Exhaustive Search / Brute Force)\n",
        "#@markdown 컴퓨터의 빠른 계산능력을 이용, 가능한 방법을 전부 만들어 답을 찾는 알고리즘.<p> 답을 무조건 찾을 수 있으나, 찾는데 걸리는 시간이 길다. <p> 완전탐색 알고리즘은 크게 반복문을 이용하는 방법과 재귀함수를 이용하는 방법이 있음.<p> 대표적 완전탐색 알고리즘으로는 Brute-Force, 재귀함수, 순열/조합, 비트마스크, 백트래킹, BFS/DFS 등의 아이디어가 있음.\n",
        "\n",
        "# 프로그래머스 완전탐색 모의고사\n",
        "def solution(answers):\n",
        "peoplePatternArray = [[1,2,3,4,5], [2,1,2,3,2,4,2,5], [3,3,1,1,2,2,4,4,5,5]]\n",
        "scoreArray = [0,0,0]\n",
        "result = []\n",
        "for idx, answer in enumerate(answers):\n",
        "for i in range(0,len(peoplePatternArray)):\n",
        "if answer == peoplePatternArray[i][idx%len(peoplePatternArray[i])]:\n",
        "scoreArray[i] += 1\n",
        "for idx, s in enumerate(scoreArray):\n",
        "if s == max(scoreArray):\n",
        "result.append(idx+1)\n",
        "return result"
      ],
      "execution_count": null,
      "outputs": []
    },
    {
      "cell_type": "code",
      "metadata": {
        "id": "YIPr8F_1nbQ6"
      },
      "source": [
        "#@title 비트마스크\n",
        "#@markdown 정수의 이진수 표현을 자료구조로 사용하는 기법.<p> 더 빠른 수행시간(O(1)), 더 간결한 코드, 더 적은 메모리 사용량을 보장받을 수 있다.<p> 비트마스크로 코드 작성시 자료형의 데이터 범위가 정해져 있지 않은 언어에서는 오버플로우나 언더플로우의 발생에 주의. <p>\n",
        "\n",
        "# Backjoon 11723\n",
        "set = 0\n",
        "case = {'d':lambda s,c:s|(1<<int(c)),'e':lambda s,c:s&(~(1<<int(c))),'h':lambda s,c:(s&(1<<int(c)))>>int(c),'o':lambda s,c:s^(1<<int(c)),'l':0b1111111111111111111110,'m':0}\n",
        " # 시간초과발생\n",
        "for i in xrange(int(raw_input())):\n",
        "    com = raw_input()\n",
        "    if com[1]=='h':\n",
        "        print case[com[1]](set,com.split()[1])\n",
        "    elif com[1]=='d' or com[1]=='e' or com[1]=='o':\n",
        "        set = case[com[1]](set,com.split()[1])\n",
        "    else:\n",
        "        set = case[com[1]]"
      ],
      "execution_count": null,
      "outputs": []
    },
    {
      "cell_type": "code",
      "metadata": {
        "id": "IG7pA3-5svN7"
      },
      "source": [
        "#@title 순열(Permutation)\n",
        "#@markdown 서로다른 n개의 대상에서 r개를 뽑아 일렬로 배열하는 것을 말함. ( nPr )<p> \n",
        "\n",
        "def permutations(prefix,k):\n",
        "    if len(prefix) == r:\n",
        "        yield prefix\n",
        "    else:\n",
        "        for i in range(k,len(arr)):\n",
        "            arr[i], arr[k] = arr[k], arr[i]\n",
        "            for next in permutations(prefix + [arr[k]], k+1):\n",
        "                yield next\n",
        "            arr[i], arr[k] = arr[k], arr[i]"
      ],
      "execution_count": null,
      "outputs": []
    },
    {
      "cell_type": "code",
      "metadata": {
        "id": "zV4fE2aBs1gY"
      },
      "source": [
        "#@title 백트래킹(Backtracking)\n",
        "#@markdown 퇴각검색(backtrack)이라고도 부름.<p> 제약조건 만족문제 (Constraint Satisfaction Problem)에서 해를 찾기 위한 전략.<p> 해를 찾기 위해, 후보군에 제약조건을 점진적으로 체크하다가, 해당 후보군이 제약 조건을 만족할 수 없다고 판단되는 즉시 Backtrack(다시는 이 후보군을 체크하지 않을 것을 표기).<p> 다른 후보군으로 넘어거며 결국 최적의 해를 찾는 방법. <p> 실제 구현시, 고려할 수 있는 모든 경우의 수(후보군)를 상태공간트리(State Space Tree)를 통해 표현.<p> 각 후보군의 DFS방식으로 확인.<p> 상태공간트리를 탐색하면서 제약이 맞지 않으면 해의 후보가 될만한 곳으로 바로 넘어가서 탐색.<p> 즉 백트래킹은 트리구조를 기반으로 DFS로 깊이 탐색을 진행하면서 각 루트에 대한 조건에 부합하는지 체크(Promising), 만약 해당 트리에서 조건에 맞지 않는 노드는 더이상 DFS로 깊이 탐색을 하지 않고 버림(Pruning).<p> 대표적 백트래킹 문제 N Queen 문제 <r>https://ko.wikipedia.org/wiki/%EC%97%AC%EB%8D%9F_%ED%80%B8_%EB%AC%B8%EC%A0%9C <p>![nqueen](https://t1.daumcdn.net/cfile/tistory/99CF74335995692437)\n",
        "\n",
        "#N Queen 문제\n",
        "def is_available(candidate, current_col):\n",
        "    current_row = len(candidate)\n",
        "    for queen_row in range(current_row):    \n",
        "        if candidate[queen_row] == current_col or abs(candidate[queen_row] - current_col) == current_row - queen_row:\n",
        "            return False\n",
        "    return True\n",
        "\n",
        "\n",
        "def DFS(N, current_row, current_candidate, final_result):\n",
        "    if current_row == N:\n",
        "        final_result.append(current_candidate[:])\n",
        "        return\n",
        "    \n",
        "    for candidate_col in range(N):\n",
        "        if is_available(current_candidate, candidate_col):\n",
        "            current_candidate.append(candidate_col)\n",
        "            DFS(N, current_row + 1, current_candidate, final_result)\n",
        "            current_candidate.pop()\n",
        "\n",
        "\n",
        "def solve_n_queens(N):\n",
        "    final_result = []\n",
        "    DFS(N, 0, [], final_result)\n",
        "    return final_result"
      ],
      "execution_count": null,
      "outputs": []
    },
    {
      "cell_type": "markdown",
      "metadata": {
        "id": "Af4r4WN12Rxu"
      },
      "source": [
        "##Dijkstra, Floyd Warshall, 벨만-포드"
      ]
    },
    {
      "cell_type": "code",
      "metadata": {
        "id": "52JBSYMz2Y49"
      },
      "source": [
        "#@title 다익스트라(Dijkstra)\n",
        "#@markdown DP를 활용한 대표적인 최단경로 탐색 알고리즘. <p> 현실세계에 사용하기 매우 적합한 알고리즘 중 하나.<p> 최대 거리는 여러 개의 최단 거리로 이루어졌음을 이용.<p> 첫 정점부터 각 노드간의 거리를 저장하는 배열을 만든 후, 처 정점의 인접 노드 간의 거리부터 먼저 계산하면서, 첫 정점부터 해당 노드간의 가장 짧은 거리를 해당 배열에 업데이트. <p> ![dijkstra](https://www.fun-coding.org/00_Images/dijkstra.png)\n",
        "\n",
        "import heapq\n",
        "\n",
        "mygraph = {\n",
        "    'A': {'B': 8, 'C': 1, 'D': 2},\n",
        "    'B': {},\n",
        "    'C': {'B': 5, 'D': 2},\n",
        "    'D': {'E': 3, 'F': 5},\n",
        "    'E': {'F': 1},\n",
        "    'F': {'A': 5}\n",
        "}\n",
        "\n",
        "def dijkstra(graph, start):\n",
        "    \n",
        "    distances = {node: float('inf') for node in graph}\n",
        "    distances[start] = 0\n",
        "    queue = []\n",
        "    heapq.heappush(queue, [distances[start], start])\n",
        "    \n",
        "    while queue:\n",
        "        current_distance, current_node = heapq.heappop(queue)\n",
        "        \n",
        "        if distances[current_node] < current_distance:\n",
        "            continue\n",
        "            \n",
        "        for adjacent, weight in graph[current_node].items():\n",
        "            distance = current_distance + weight\n",
        "            \n",
        "            if distance < distances[adjacent]:\n",
        "                distances[adjacent] = distance\n",
        "                heapq.heappush(queue, [distance, adjacent])\n",
        "                \n",
        "    return distances\n",
        "\n",
        "# dijkstra(mygraph, 'A')의 출력 : {'A': 0, 'B': 6, 'C': 1, 'D': 2, 'E': 5, 'F': 6}"
      ],
      "execution_count": null,
      "outputs": []
    },
    {
      "cell_type": "code",
      "metadata": {
        "id": "hPSaA9tzcQpg"
      },
      "source": [
        "#@title 플로이드 와샬(Floyd Warshall)\n",
        "#@markdown 다익스트라 알고리즘과는 다르게 모든 정점에서 모든 정점으로의 최단거리를 구하는 경우. <p> 기본적으로 거쳐가는 정점을 기준으로 알고리즘을 수행. <p> 기본적으로 다이나믹 프로그래밍 기술에 의거함. <p> 2차원 배열을 만들어 그래프 간선의 정보를 저장하며 연결 되지 않은 두 정점의 거리는 무한대값으로 자기자신의 거리는 0으로 저장한다.<p> 경유지 노드를 전부 순회하며 2차원 테이블을 업데이트 한다.<p> 최종적으로 시작 노드에서 모든 노드까지의 최소 거리를 구함.<p> ![floydwarshall](https://upload.wikimedia.org/wikipedia/commons/2/2e/Floyd-Warshall_example.svg)\n",
        "\n",
        "def Floyd_Warshall():\n",
        "  dist=[[INF]*n for i in range(n)]\n",
        "\n",
        "  for i in range(n):\n",
        "    for j in range(n):\n",
        "      dist[i][j]=a[i][j]\n",
        "\n",
        "  for k in range(n):\n",
        "    for i in range(n):\n",
        "      for j in range(n):\n",
        "        if dist[i][j] > dist[i][k]+dist[k][j]:\n",
        "          dist[i][j]=dist[i][k]+dist[k][j]\n",
        "\n",
        "  return dist"
      ],
      "execution_count": null,
      "outputs": []
    },
    {
      "cell_type": "code",
      "metadata": {
        "id": "yYAU5HypcVkn"
      },
      "source": [
        "#@title 벨만-포드(Bellman-Ford)\n",
        "#@markdown 음수 가중치가 있는 그래프에서 특정 시작점에서 나머지 정점 까지의 최단 거리를 구하는 알고리즘.<p> 벨만-포드 알고리즘을 통해 음수 사이클의 존재도 알 수 있다.<p> 각 정점들을 차례로 돌아 해당 정점의 간선들을 탐색한다.<p> 맨처음은 시작점부터 탐색하며 간서의 가중치와 시작점에서 정점까지의 거리의 합이 해당 간선이 도달하고자 하는 정점의 기존 거리보다 작으면 업데이트하는 식으로 동작. <p> \n",
        "\n",
        "def bellman_ford(graph, source):\n",
        "    \n",
        "    distance, predecessor = dict(), dict()\n",
        "    for node in graph:\n",
        "        distance[node], predecessor[node] = float('inf'), None\n",
        "    distance[source] = 0\n",
        "\n",
        "    for _ in range(len(graph) - 1):\n",
        "        for node in graph:\n",
        "            for neighbour in graph[node]:\n",
        "                if distance[neighbour] > distance[node] + graph[node][neighbour]:\n",
        "                    distance[neighbour], predecessor[neighbour] = distance[node] + graph[node][neighbour], node\n",
        "\n",
        "    for node in graph:\n",
        "        for neighbour in graph[node]:\n",
        "            assert distance[neighbour] <= distance[node] + graph[node][neighbour], \"Negative weight cycle.\"\n",
        " \n",
        "    return distance, predecessor"
      ],
      "execution_count": null,
      "outputs": []
    },
    {
      "cell_type": "markdown",
      "metadata": {
        "id": "OxmNPudT2ZY2"
      },
      "source": [
        "##KMP, Manacher(문자열 기초)"
      ]
    },
    {
      "cell_type": "code",
      "metadata": {
        "id": "8yWDjyrv2bp1"
      },
      "source": [
        "#@title KMP(Knuth-Morris-Pratt) 알고리즘\n",
        "#@markdown KMP알고리즘은 대표적인 문자열 매칭 알고리즘. <p> 글 안에서 특정 문자열을 찾는 알고리즘. <p> 특정 문자열을 단순 비교를 통해 찾는 단순 비교 문자열 매칭 알고리즘과 달리 KMP알고리즘은 모든 경우를 다 비교하지 않아도 부분 문자열을 찾을 수 있음. <p> 이는 단순 비교 방법의 최악의 경우 발생할 수 있는 시간 소모를 줄임. <p> 접두사와 접미사의 개념을 활용하여 반복되는 연산을 얼마나 줄일 수 있는가를 판별하여 문자열을 빠르게 점프하는 기법. <p> LPS(Longest proper prefix which is suffix)배열 을 통하여 접두사(Prefix), 접미사(Suffix)가 같은 경우를 배열로 검출.<p> LPS배열을 통해 이미 알고 있는 부분은 다시 조사하지 않고 넘어가도록 하여 패턴을 검출한다.\n",
        "\n",
        "def KMPSearch(pat, txt):\n",
        "    M = len(pat)\n",
        "    N = len(txt)\n",
        "\n",
        "    lps = [0]*M\n",
        "\n",
        "    computeLPS(pat, lps)\n",
        "\n",
        "    i = 0 \n",
        "    j = 0 \n",
        "    while i < N:\n",
        "        if pat[j] == txt[i]:\n",
        "            i += 1\n",
        "            j += 1\n",
        "        elif pat[j] != txt[i]:\n",
        "            if j != 0:\n",
        "                j = lps[j-1]\n",
        "            else:\n",
        "                i += 1\n",
        "\n",
        "        if j == M:\n",
        "            print(\"Found pattern at index \" + str(i-j))\n",
        "            j = lps[j-1]\n",
        "\n",
        "def computeLPS(pat, lps):\n",
        "    leng = 0 \n",
        "\n",
        "    i = 1\n",
        "    while i < len(pat):\n",
        "        if pat[i] == pat[leng]:\n",
        "            leng += 1\n",
        "            lps[i] = leng\n",
        "            i += 1\n",
        "        else:\n",
        "            if leng != 0:\n",
        "                leng = lps[leng-1]\n",
        "            else:\n",
        "                lps[i] = 0\n",
        "                i += 1"
      ],
      "execution_count": null,
      "outputs": []
    },
    {
      "cell_type": "code",
      "metadata": {
        "id": "rQ5YXdQmgblX"
      },
      "source": [
        "#@title Manacher 알고리즘\n",
        "#@markdown 스트링 내의 존재하는 모든 Palindrome(앞으로 읽으나 뒤로 읽으나 똑같은 문자열)을 구하는  알고리즘.<p> 일부 부분 문자열 중 팬린드롬이 되는 제일 긴 문자열을 찾고, 그 문자열의 중심으로 부터 대칭이 되는 부분 문자열 역시 팰린드롬이라는 아이디어를 이용하는 알고리즘.\n",
        "\n",
        "def Manachers( S ):\n",
        "    T = [0] * (2 * (len(S)) + 3)\n",
        "\n",
        "    sen_char = \"@\"\n",
        "    start_sen = \"!\"\n",
        "    end_sen = \"#\"\n",
        "    for i in range(len(T)):\n",
        "        if i == 0:\n",
        "            T[i] = start_sen\n",
        "        elif i % 2 == 0 and i < len(T) - 1:\n",
        "            s_index = (i - 1) // 2\n",
        "            T[i] = S[s_index]\n",
        "        elif i % 2 == 1 and i < len(T) - 1:\n",
        "            T[i] = sen_char\n",
        "        else:\n",
        "            T[i] = end_sen\n",
        "\n",
        "    P = [0] * len(T)\n",
        "    center = right = 0\n",
        "    max_len = index = 0\n",
        "\n",
        "    for i in range(1, len(T) - 1):\n",
        "\n",
        "        mirror = 2 * center - i\n",
        "        if i < right:\n",
        "            P[i] = min(right - i, P[mirror])\n",
        "\n",
        "        while T[i + P[i] + 1] == T[i - (P[i] + 1)]:\n",
        "            P[i] += 1\n",
        "\n",
        "        if i + P[i] > right:\n",
        "            right = i + P[i]\n",
        "            center = i\n",
        "\n",
        "        if P[i] > max_len:\n",
        "            max_len = P[i]\n",
        "            index = i\n",
        "\n",
        "    t_arr = T[ index - max_len: index + max_len + 1 ]\n",
        "    word_arr = [ c for c in t_arr if c != sen_char and c != start_sen and c != end_sen ]\n",
        "    word = \"\".join(word_arr)\n",
        "\n",
        "    return word\n"
      ],
      "execution_count": null,
      "outputs": []
    },
    {
      "cell_type": "markdown",
      "metadata": {
        "id": "cn58aZsb2b-N"
      },
      "source": [
        "## NetworkFlow"
      ]
    },
    {
      "cell_type": "code",
      "metadata": {
        "id": "9Y4jIB-12eN9"
      },
      "source": [
        "#@title 네트워크 플로우(Network Flow)\n",
        "#@markdown 특정한 지점에서 다른 지점으로 데이터가 얼마나 많이 흐르고 있는가를 측정하는 알고리즘.<p> 교통체증, 네트워크 데이터 전송 등의 다양한 분야에 활용됨. <p> 그래프의 간선에 용량(Capacity), 유량(flow)를 표현히여 용량대비 가장 효율적인 유량을 찾는 방법.<p>이러한 문제를 일반적으로 최대유량(Max Flow)문제라고 정의함.<p> 최대 유량문제의 경우 단순하게 가능한 모든 경우의 수를 탐색하는 방법을 사용.<p> BFS를 이용하는 것이 일반적인데 이런 방법을 에드몬드 카프(Edmonds-Karp)알고리즘이라고 함.<p> 최대 유량문제의 핵심적인 부분은 음의 유량을 계산하는 것.<p> 유량을 더해주는 과정에서 사실은 보이지 않게 반대로 가는 유량이 빠지고 있다고 보는 방법.<p>![networdflow](https://mblogthumb-phinf.pstatic.net/MjAxODAzMjVfMTIx/MDAxNTIxOTgwNDM2MzAw.wYvKtgJYMax7k-_wl8RgXwwbGCo_u1RNKYpBPbpIdCIg.onyXC6dW2X_PQfZPn82AQFAMMXbJcfM4GFWbs0DJ0BMg.PNG.ndb796/image.png?type=w800)\n",
        "\n",
        "# Backjoon 6086\n",
        "from collections import deque\n",
        "import sys\n",
        "input = sys.stdin.readline\n",
        "sys.setrecursionlimit(10 ** 7)\n",
        " \n",
        " \n",
        "def CtoI(target):\n",
        "    if target.isupper():\n",
        "        return ord(target) - ord('A')\n",
        "    else:\n",
        "        return ord(target) - ord('a') + 26\n",
        " \n",
        " \n",
        "def BFS(source, sink, visit):\n",
        "    dq = deque()\n",
        "    dq.append(source)\n",
        "    \n",
        "    while dq and visit[sink] == -1:\n",
        "        sv = dq.popleft()\n",
        " \n",
        "        for dv in adjList[sv]:\n",
        "            if capacity[sv][dv] - flow[sv][dv] > 0 and visit[dv] == -1:\n",
        "                dq.append(dv)\n",
        "                visit[dv] = sv\n",
        " \n",
        "                if dv == sink:\n",
        "                    break\n",
        "        \n",
        "    if visit[sink] == -1:\n",
        "        return True\n",
        "    else:\n",
        "        return False\n",
        " \n",
        " \n",
        "def edmondsKarp(source, sink):\n",
        "    totalFlow = 0\n",
        " \n",
        "    while 1:\n",
        "        visit = [-1] * MAX_V\n",
        "        if BFS(source, sink, visit):\n",
        "            break\n",
        " \n",
        "        minFlow = INF\n",
        "        \n",
        "        i = sink\n",
        "        while i != source:\n",
        "            minFlow = min(minFlow, capacity[visit[i]][i] - flow[visit[i]][i])\n",
        "            i = visit[i]\n",
        "        \n",
        "        i = sink\n",
        "        while i != source:\n",
        "            flow[visit[i]][i] += minFlow\n",
        "            flow[i][visit[i]] -= minFlow\n",
        "            i = visit[i]\n",
        "        \n",
        "        totalFlow += minFlow\n",
        "    \n",
        "    return totalFlow\n",
        " \n",
        " \n",
        "MAX_V = 52\n",
        "INF = 2147483647\n",
        " \n",
        "N = int(input())\n",
        "capacity = [[0] * MAX_V for _ in range(MAX_V)]\n",
        "flow = [[0] * MAX_V for _ in range(MAX_V)]\n",
        "adjList = [[] for _ in range(MAX_V)]\n",
        " \n",
        "for _ in range(N):\n",
        "    sv, dv, c = input().rstrip().split()\n",
        " \n",
        "    sv = CtoI(sv)\n",
        "    dv = CtoI(dv)\n",
        " \n",
        "    capacity[sv][dv] += int(c)\n",
        "    capacity[dv][sv] += int(c)\n",
        "    adjList[sv].append(dv)\n",
        "    adjList[dv].append(sv)\n",
        " \n",
        "source = CtoI(\"A\")\n",
        "sink = CtoI(\"Z\")\n",
        " \n",
        "print(edmondsKarp(source, sink))"
      ],
      "execution_count": null,
      "outputs": []
    },
    {
      "cell_type": "code",
      "metadata": {
        "id": "7vzh-tbh2PrH"
      },
      "source": [
        "#@title 이분매칭(Bipartite Matching)\n",
        "#@markdown 집단A에서 집단B를 선택하는 방법에 대한 알고리즘. <p> 집단간의 매칭을 그래프 형태로 표현한 것에서 효과적인 매칭, 즉 최대 매칭(Max Matching)을 이루도록 함.\n",
        "\n",
        "#Backjoon 2188\n",
        "def BFS():\n",
        "global capacity\n",
        "global flow\n",
        "total = 0\n",
        "while(True):\n",
        "stack = [0]\n",
        "chk = True\n",
        "pre = [-1] * totalVertex\n",
        "while(len(stack) != 0 and chk ):\n",
        "value = stack.pop(0)\n",
        "\n",
        "for i in range(totalVertex):\n",
        "if( pre[i] >= 0 ):\n",
        "continue\n",
        "if( capacity[value][i] - flow[value][i] > 0 ):\n",
        "stack.append(i)\n",
        "pre[i] = value\n",
        "if( i == totalVertex - 1 ):\n",
        "chk = False\n",
        "break\n",
        "\n",
        "if( pre[totalVertex-1] == -1 ):\n",
        "break\n",
        "temp = totalVertex - 1\n",
        "while( temp != 0):\n",
        "flow[pre[temp]][temp] = 1\n",
        "flow[temp][pre[temp]] = -1\n",
        "temp = pre[temp]\n",
        "total += 1\n",
        "return total\n",
        "\n",
        "\n",
        "def DFS():\n",
        "global capacity\n",
        "global flow\n",
        "total = 0\n",
        "while (True):\n",
        "stack = [0]\n",
        "chk = True\n",
        "pre = [-1] * totalVertex\n",
        "while (len(stack) != 0 and chk):\n",
        "value = stack.pop()\n",
        "\n",
        "for i in range(totalVertex):\n",
        "if (pre[i] >= 0):\n",
        "continue\n",
        "if (capacity[value][i] - flow[value][i] > 0 ):\n",
        "stack.append(i)\n",
        "pre[i] = value\n",
        "if (i == totalVertex - 1):\n",
        "chk = False\n",
        "break\n",
        "\n",
        "if (pre[totalVertex - 1] == -1):\n",
        "break\n",
        "\n",
        "temp = totalVertex - 1\n",
        "while (temp != 0):\n",
        "flow[pre[temp]][temp] = 1\n",
        "flow[temp][pre[temp]] = -1\n",
        "temp = pre[temp]\n",
        "total += 1\n",
        "return total\n",
        "\n",
        "\n",
        "if __name__ == \"__main__\":\n",
        "\n",
        "\n",
        "N,M = input().split()\n",
        "N,M = int(N),int(M)\n",
        "\n",
        "cowArray = [[]] * N\n",
        "for i in range(N):\n",
        "cowArray[i] = [int (k) for k in input().split()]\n",
        "\n",
        "\n",
        "totalVertex = N+M+2\n",
        "\n",
        "flow = [[0]*totalVertex for i in range(totalVertex)]\n",
        "capacity = [[0]*totalVertex for i in range(totalVertex)]\n",
        "\n",
        "for i in range(N):\n",
        "capacity[0][i+1] = 1\n",
        "for i in range(M):\n",
        "capacity[-2 - i][-1] = 1\n",
        "for i,j in enumerate(cowArray):\n",
        "for k in range(j[0]):\n",
        "capacity[i+1][j[k+1]+N] = 1\n",
        "\n",
        "print(BFS())\n",
        "# print(BFS())"
      ],
      "execution_count": null,
      "outputs": []
    },
    {
      "cell_type": "markdown",
      "metadata": {
        "id": "vT2LQ6TS2ei1"
      },
      "source": [
        "## 재귀호출"
      ]
    },
    {
      "cell_type": "code",
      "metadata": {
        "id": "cg4Ncf1z2gmN"
      },
      "source": [
        ""
      ],
      "execution_count": null,
      "outputs": []
    },
    {
      "cell_type": "markdown",
      "metadata": {
        "id": "gSQNJ8iR2hG1"
      },
      "source": [
        "##Segment Tree, BIT"
      ]
    },
    {
      "cell_type": "code",
      "metadata": {
        "id": "Ydq-0dz92jAt"
      },
      "source": [
        "#@title 세그먼트 트리(Segment Tree)\n",
        "#@markdwon"
      ],
      "execution_count": null,
      "outputs": []
    },
    {
      "cell_type": "code",
      "metadata": {
        "id": "nayJPtJ_rsDq"
      },
      "source": [
        "#@title 펜윅 트리(Binary Index Tree)\n",
        "#@markdown"
      ],
      "execution_count": null,
      "outputs": []
    },
    {
      "cell_type": "markdown",
      "metadata": {
        "id": "k-IDMMQb2jbt"
      },
      "source": [
        "##MCMF"
      ]
    },
    {
      "cell_type": "code",
      "metadata": {
        "id": "dtzMF1zM2ksl"
      },
      "source": [
        "#@title MCMF(Minimun Cost Maximum Flow)\n",
        "#@markdown"
      ],
      "execution_count": null,
      "outputs": []
    }
  ]
}