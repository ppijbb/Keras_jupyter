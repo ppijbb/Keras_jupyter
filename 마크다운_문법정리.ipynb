{
  "nbformat": 4,
  "nbformat_minor": 0,
  "metadata": {
    "kernelspec": {
      "display_name": "Python 3",
      "language": "python",
      "name": "python3"
    },
    "language_info": {
      "codemirror_mode": {
        "name": "ipython",
        "version": 3
      },
      "file_extension": ".py",
      "mimetype": "text/x-python",
      "name": "python",
      "nbconvert_exporter": "python",
      "pygments_lexer": "ipython3",
      "version": "3.7.4"
    },
    "colab": {
      "name": "마크다운_문법정리.ipynb",
      "provenance": [],
      "include_colab_link": true
    }
  },
  "cells": [
    {
      "cell_type": "markdown",
      "metadata": {
        "id": "view-in-github",
        "colab_type": "text"
      },
      "source": [
        "<a href=\"https://colab.research.google.com/github/ppijbb/Keras_jupyter/blob/main/%EB%A7%88%ED%81%AC%EB%8B%A4%EC%9A%B4_%EB%AC%B8%EB%B2%95%EC%A0%95%EB%A6%AC.ipynb\" target=\"_parent\"><img src=\"https://colab.research.google.com/assets/colab-badge.svg\" alt=\"Open In Colab\"/></a>"
      ]
    },
    {
      "cell_type": "markdown",
      "metadata": {
        "id": "r90EroRPD4Av"
      },
      "source": [
        "# 1. 마크다운"
      ]
    },
    {
      "cell_type": "markdown",
      "metadata": {
        "id": "rYKTsL8uD4A2"
      },
      "source": [
        "# 헤더1\n",
        "## 헤더2\n",
        "### 헤더3\n",
        "#### 헤더4\n",
        "##### 헤더5\n",
        "###### 헤더6"
      ]
    },
    {
      "cell_type": "markdown",
      "metadata": {
        "id": "19cXrjNjD4A3"
      },
      "source": [
        "엔터키를 치기전에 2칸을 띄워야 원하는 줄바꾸기가 됨.  \n",
        "\n",
        "\n",
        ">나보기가 역겨워 가실때에는  \n",
        "말없이 **고이보네** 드리오리다  "
      ]
    },
    {
      "cell_type": "markdown",
      "metadata": {
        "id": "SfEQlTZcD4A3"
      },
      "source": [
        "* <small>작은 문자들</small>\n",
        "* <big>큰 글자들</big>"
      ]
    },
    {
      "cell_type": "markdown",
      "metadata": {
        "id": "UzFD0PTVD4A3"
      },
      "source": [
        "---"
      ]
    },
    {
      "cell_type": "markdown",
      "metadata": {
        "id": "oPUBTtZ-D4A4"
      },
      "source": [
        "> 인용어구"
      ]
    },
    {
      "cell_type": "markdown",
      "metadata": {
        "id": "2HYDdmLFD4A4"
      },
      "source": [
        "*기울인글씨*  _기울인글씨_  \n",
        "**굵은 글씨** __굵은글씨__  "
      ]
    },
    {
      "cell_type": "markdown",
      "metadata": {
        "id": "EbLLrjiGD4A4"
      },
      "source": [
        "Name    |   Age\n",
        "--------|------\n",
        "홍길동    |   28\n",
        "강감찬     |   57\n",
        "이순신   |   62"
      ]
    },
    {
      "cell_type": "markdown",
      "metadata": {
        "id": "TElnCCOkD4A4"
      },
      "source": [
        "* 고구마 (tab 을 사용하면 세부 리스트 표현)\n",
        "    - 호박고구마\n",
        "    * 밤고구마\n",
        "    - 물고구마\n",
        "+ 감자\n",
        "- 옥수수"
      ]
    },
    {
      "cell_type": "markdown",
      "metadata": {
        "id": "yrfrNxOHD4A5"
      },
      "source": [
        "1. 고구마\n",
        "50. 감자\n",
        "2. 옥수수"
      ]
    },
    {
      "cell_type": "markdown",
      "metadata": {
        "id": "qlRMTRHeD4A5"
      },
      "source": [
        "[google](http://www.google.com/) 구글을 방문하려면 클릭하세요  \n",
        "[네이버](http://naver.com) 네이버를 방문하려면 클릭하세요"
      ]
    },
    {
      "cell_type": "markdown",
      "metadata": {
        "id": "gM7Uc326D4A5"
      },
      "source": [
        "![zzz.PNG](attachment:zzz.PNG)"
      ]
    },
    {
      "cell_type": "markdown",
      "metadata": {
        "id": "TzYxwTuuD4A5"
      },
      "source": [
        "<video controls src=\"desktop/연예찬양/살아계신주.mp3\" /> "
      ]
    },
    {
      "cell_type": "markdown",
      "metadata": {
        "id": "5bt_LRwRD4A6"
      },
      "source": [
        "<http://daum.net> 링크연결"
      ]
    },
    {
      "cell_type": "markdown",
      "metadata": {
        "id": "DH3D48JoD4A6"
      },
      "source": [
        "<steveyj.choi@gmail.com> 이메일 연결"
      ]
    },
    {
      "cell_type": "markdown",
      "metadata": {
        "id": "lFLsRNWCD4A6"
      },
      "source": [
        "$\\sqrt(x^2 + y^2 + z^2)$  \n",
        "\n",
        "수식 선택 후 오른쪽 마우스를 눌러 확인  \n",
        "\n",
        "[더욱 자세한 수식](https://jupyter-notebook.readthedocs.io/en/stable/examples/Notebook/Typesetting%20Equations.html)"
      ]
    },
    {
      "cell_type": "markdown",
      "metadata": {
        "id": "ZPhDPxzxD4A6"
      },
      "source": [
        "[More Examples click here](https://jupyter-notebook.readthedocs.io/en/stable/examples/Notebook/Typesetting%20Equations.html)"
      ]
    },
    {
      "cell_type": "markdown",
      "metadata": {
        "id": "pGaqlseVD4A6"
      },
      "source": [
        "## 단축키\n",
        "\n",
        "셀 선택/해제\n",
        "> 선택 ESC\n",
        "> 왼쪽 클릭 선택(이 상태에서 명령) / 오른쪽 클릭 편집\n",
        "\n",
        "셀 나누기\n",
        "> 나눌 곳에서 shift ctrl - \n",
        "\n",
        "실행\n",
        "> 그냥 실행: Ctrl Enter / 실행 후 다음 셀로: Shift  Enter\n",
        "\n",
        "모드 전환\n",
        "> 마크다운 모드로 전환: m / 코드편집 모드로 전환: y\n",
        "\n",
        "셀 삭제\n",
        "> dd (삭제)\n",
        "\n",
        "셀 복붙\n",
        "> x (잘라내기) / v (붙여넣기)"
      ]
    },
    {
      "cell_type": "markdown",
      "metadata": {
        "id": "Ds3LIsIaD4A7"
      },
      "source": [
        "# 2. code"
      ]
    },
    {
      "cell_type": "markdown",
      "metadata": {
        "id": "-gxYLifrD4A7"
      },
      "source": [
        "### 노트북에서 대화형 위젯 만들기"
      ]
    },
    {
      "cell_type": "code",
      "metadata": {
        "id": "HBvfHI4hD4A7",
        "outputId": "1fd67ea9-691c-4c7f-b459-f0a04a530d28"
      },
      "source": [
        "from IPython.display import Image\n",
        "Image(url= \"http://kstatic.inven.co.kr/upload/2017/04/28/bbs/i14759653905.jpg\", width=200, height=50)"
      ],
      "execution_count": null,
      "outputs": [
        {
          "output_type": "execute_result",
          "data": {
            "text/html": [
              "<img src=\"http://kstatic.inven.co.kr/upload/2017/04/28/bbs/i14759653905.jpg\" width=\"200\" height=\"50\"/>"
            ],
            "text/plain": [
              "<IPython.core.display.Image object>"
            ]
          },
          "metadata": {
            "tags": []
          },
          "execution_count": 1
        }
      ]
    },
    {
      "cell_type": "code",
      "metadata": {
        "id": "nO8FF0HJD4A9",
        "outputId": "cd825cf7-a479-4851-cc0c-359cdc6a3c1f"
      },
      "source": [
        "from IPython.display import YouTubeVideo\n",
        "YouTubeVideo(\"Fh0h6wsOddw\")  \n",
        "\n",
        "# https://www.youtube.com/watch?v=Fh0h6wsOddw"
      ],
      "execution_count": null,
      "outputs": [
        {
          "output_type": "execute_result",
          "data": {
            "image/jpeg": "[encoded data removed]",
            "text/html": [
              "\n",
              "        <iframe\n",
              "            width=\"400\"\n",
              "            height=\"300\"\n",
              "            src=\"https://www.youtube.com/embed/Fh0h6wsOddw\"\n",
              "            frameborder=\"0\"\n",
              "            allowfullscreen\n",
              "        ></iframe>\n",
              "        "
            ],
            "text/plain": [
              "<IPython.lib.display.YouTubeVideo at 0x1fe7cec1108>"
            ]
          },
          "metadata": {
            "tags": []
          },
          "execution_count": 2
        }
      ]
    },
    {
      "cell_type": "code",
      "metadata": {
        "id": "Xg-k8169D4A-",
        "outputId": "c02832db-778c-4f82-dc5e-8b76fd344342",
        "colab": {
          "referenced_widgets": [
            "2be19dd4943b47cfba2bb781ef234627"
          ]
        }
      },
      "source": [
        "from ipywidgets import interact\n",
        "# IPython 4.0 이전의 IPython.html.widgets\n",
        "@interact(x=(0,10)) # 데코레이터\n",
        "def square(x):\n",
        "    print(\"The sqare of %d is %d.\" % (x,x**2))"
      ],
      "execution_count": null,
      "outputs": [
        {
          "output_type": "display_data",
          "data": {
            "application/vnd.jupyter.widget-view+json": {
              "model_id": "2be19dd4943b47cfba2bb781ef234627",
              "version_major": 2,
              "version_minor": 0
            },
            "text/plain": [
              "interactive(children=(IntSlider(value=5, description='x', max=10), Output()), _dom_classes=('widget-interact',…"
            ]
          },
          "metadata": {
            "tags": []
          }
        }
      ]
    },
    {
      "cell_type": "markdown",
      "metadata": {
        "id": "Qma0mRDTD4A-"
      },
      "source": [
        "### 입력중 유용한 기능\n",
        "\n",
        "입력중 tab 을 누르면 내부 요소를 확인하고 선택 가능.  \n",
        "변수를 입력하고 __shift-tab__ 을 누르면 변수의 내부 특성 조회됨.  \n",
        "함수를 입력하고 shift-tab 을 누르면 함수의 내부 특성 조회됨.  \n",
        "변수나 함수 뒤에 ? 를 입력 후 실행하면 내부 정보를 보여줌.  \n",
        "함수 뒤에 ?? 를 입력 후 실행하면 소스 등이 보여짐.  "
      ]
    },
    {
      "cell_type": "code",
      "metadata": {
        "id": "nTNMcBEpD4A-",
        "outputId": "8c1817f8-1d9d-470c-b858-ee54d6f6e995"
      },
      "source": [
        "%matplotlib inline\n",
        "# 매직 명령어 % , %% 그래프가 셀 안에서 보여 짐.\n",
        "\n",
        "import matplotlib.pyplot as plt\n",
        "plt.plot([1,2,3,4,])\n",
        "plt.ylabel('result')\n",
        "plt.show()"
      ],
      "execution_count": null,
      "outputs": [
        {
          "output_type": "display_data",
          "data": {
            "image/png": "[encoded data removed]",
            "text/plain": [
              "<Figure size 432x288 with 1 Axes>"
            ]
          },
          "metadata": {
            "tags": [],
            "needs_background": "light"
          }
        }
      ]
    },
    {
      "cell_type": "code",
      "metadata": {
        "id": "S-HAcMUSD4A_",
        "outputId": "8a208622-6908-407c-d621-e4a9461a8480"
      },
      "source": [
        "import pandas as pd\n",
        "url=\"https://raw.githubusercontent.com/cs109/2014_data/master/countries.csv\" \n",
        "pd.read_csv(url,nrows=10)\n",
        "\n",
        "\n",
        "# 표 형식을 주로 사용하는 pandas 의 출력"
      ],
      "execution_count": null,
      "outputs": [
        {
          "output_type": "execute_result",
          "data": {
            "text/html": [
              "<div>\n",
              "<style scoped>\n",
              "    .dataframe tbody tr th:only-of-type {\n",
              "        vertical-align: middle;\n",
              "    }\n",
              "\n",
              "    .dataframe tbody tr th {\n",
              "        vertical-align: top;\n",
              "    }\n",
              "\n",
              "    .dataframe thead th {\n",
              "        text-align: right;\n",
              "    }\n",
              "</style>\n",
              "<table border=\"1\" class=\"dataframe\">\n",
              "  <thead>\n",
              "    <tr style=\"text-align: right;\">\n",
              "      <th></th>\n",
              "      <th>Country</th>\n",
              "      <th>Region</th>\n",
              "    </tr>\n",
              "  </thead>\n",
              "  <tbody>\n",
              "    <tr>\n",
              "      <th>0</th>\n",
              "      <td>Algeria</td>\n",
              "      <td>AFRICA</td>\n",
              "    </tr>\n",
              "    <tr>\n",
              "      <th>1</th>\n",
              "      <td>Angola</td>\n",
              "      <td>AFRICA</td>\n",
              "    </tr>\n",
              "    <tr>\n",
              "      <th>2</th>\n",
              "      <td>Benin</td>\n",
              "      <td>AFRICA</td>\n",
              "    </tr>\n",
              "    <tr>\n",
              "      <th>3</th>\n",
              "      <td>Botswana</td>\n",
              "      <td>AFRICA</td>\n",
              "    </tr>\n",
              "    <tr>\n",
              "      <th>4</th>\n",
              "      <td>Burkina</td>\n",
              "      <td>AFRICA</td>\n",
              "    </tr>\n",
              "    <tr>\n",
              "      <th>5</th>\n",
              "      <td>Burundi</td>\n",
              "      <td>AFRICA</td>\n",
              "    </tr>\n",
              "    <tr>\n",
              "      <th>6</th>\n",
              "      <td>Cameroon</td>\n",
              "      <td>AFRICA</td>\n",
              "    </tr>\n",
              "    <tr>\n",
              "      <th>7</th>\n",
              "      <td>Cape Verde</td>\n",
              "      <td>AFRICA</td>\n",
              "    </tr>\n",
              "    <tr>\n",
              "      <th>8</th>\n",
              "      <td>Central African Republic</td>\n",
              "      <td>AFRICA</td>\n",
              "    </tr>\n",
              "    <tr>\n",
              "      <th>9</th>\n",
              "      <td>Chad</td>\n",
              "      <td>AFRICA</td>\n",
              "    </tr>\n",
              "  </tbody>\n",
              "</table>\n",
              "</div>"
            ],
            "text/plain": [
              "                    Country  Region\n",
              "0                   Algeria  AFRICA\n",
              "1                    Angola  AFRICA\n",
              "2                     Benin  AFRICA\n",
              "3                  Botswana  AFRICA\n",
              "4                   Burkina  AFRICA\n",
              "5                   Burundi  AFRICA\n",
              "6                  Cameroon  AFRICA\n",
              "7                Cape Verde  AFRICA\n",
              "8  Central African Republic  AFRICA\n",
              "9                      Chad  AFRICA"
            ]
          },
          "metadata": {
            "tags": []
          },
          "execution_count": 7
        }
      ]
    },
    {
      "cell_type": "markdown",
      "metadata": {
        "id": "ihUdd3OLD4A_"
      },
      "source": [
        "주석 토글 : control /"
      ]
    },
    {
      "cell_type": "code",
      "metadata": {
        "id": "ZD244bmND4A_"
      },
      "source": [
        "# 주석입니다"
      ],
      "execution_count": null,
      "outputs": []
    },
    {
      "cell_type": "markdown",
      "metadata": {
        "id": "vv97TgepD4BA"
      },
      "source": [
        "a=77\n",
        "a"
      ]
    },
    {
      "cell_type": "code",
      "metadata": {
        "id": "182FdKMKD4BA",
        "outputId": "1a88801b-21f8-4bf4-e3a1-d68908aa97bb"
      },
      "source": [
        "b=88\n",
        "b"
      ],
      "execution_count": null,
      "outputs": [
        {
          "output_type": "execute_result",
          "data": {
            "text/plain": [
              "88"
            ]
          },
          "metadata": {
            "tags": []
          },
          "execution_count": 9
        }
      ]
    },
    {
      "cell_type": "code",
      "metadata": {
        "id": "t45MuEwbD4BA",
        "outputId": "52f6dd56-cec3-4c6d-b65a-de7d00793043"
      },
      "source": [
        "c=99\n",
        "c"
      ],
      "execution_count": null,
      "outputs": [
        {
          "output_type": "execute_result",
          "data": {
            "text/plain": [
              "99"
            ]
          },
          "metadata": {
            "tags": []
          },
          "execution_count": 10
        }
      ]
    },
    {
      "cell_type": "code",
      "metadata": {
        "id": "Us-m00CYD4BB",
        "outputId": "4fb541f8-27f3-4c44-a707-bebbea44a1c4"
      },
      "source": [
        "%whos"
      ],
      "execution_count": null,
      "outputs": [
        {
          "output_type": "stream",
          "text": [
            "Variable       Type                Data/Info\n",
            "--------------------------------------------\n",
            "Image          type                <class 'IPython.core.display.Image'>\n",
            "YouTubeVideo   type                <class 'IPython.lib.display.YouTubeVideo'>\n",
            "b              int                 88\n",
            "c              int                 99\n",
            "interact       _InteractFactory    <ipywidgets.widgets.inter<...>ct at 0x000001696CA11D68>\n",
            "square         function            <function square at 0x0000016977D9A048>\n",
            "url            str                 https://raw.githubusercon<...>data/master/countries.csv\n"
          ],
          "name": "stdout"
        }
      ]
    },
    {
      "cell_type": "code",
      "metadata": {
        "id": "TX3QrLNHD4BB",
        "outputId": "ac244e3b-ffad-482e-9fd8-df9c88282094"
      },
      "source": [
        "del a"
      ],
      "execution_count": null,
      "outputs": [
        {
          "output_type": "error",
          "ename": "NameError",
          "evalue": "name 'a' is not defined",
          "traceback": [
            "\u001b[1;31m---------------------------------------------------------------------------\u001b[0m",
            "\u001b[1;31mNameError\u001b[0m                                 Traceback (most recent call last)",
            "\u001b[1;32m<ipython-input-12-84acad089b3e>\u001b[0m in \u001b[0;36m<module>\u001b[1;34m\u001b[0m\n\u001b[1;32m----> 1\u001b[1;33m \u001b[1;32mdel\u001b[0m \u001b[0ma\u001b[0m\u001b[1;33m\u001b[0m\u001b[1;33m\u001b[0m\u001b[0m\n\u001b[0m",
            "\u001b[1;31mNameError\u001b[0m: name 'a' is not defined"
          ]
        }
      ]
    },
    {
      "cell_type": "code",
      "metadata": {
        "id": "JB2tG4KqD4BB",
        "outputId": "d019d42c-edfb-42c8-8b57-0b26755a1fe8"
      },
      "source": [
        "%whos"
      ],
      "execution_count": null,
      "outputs": [
        {
          "output_type": "stream",
          "text": [
            "Variable       Type                Data/Info\n",
            "--------------------------------------------\n",
            "Image          type                <class 'IPython.core.display.Image'>\n",
            "YouTubeVideo   type                <class 'IPython.lib.display.YouTubeVideo'>\n",
            "b              int                 88\n",
            "c              int                 99\n",
            "interact       _InteractFactory    <ipywidgets.widgets.inter<...>ct at 0x000001696CA11D68>\n",
            "square         function            <function square at 0x0000016977D9A048>\n",
            "url            str                 https://raw.githubusercon<...>data/master/countries.csv\n"
          ],
          "name": "stdout"
        }
      ]
    },
    {
      "cell_type": "code",
      "metadata": {
        "id": "URp3wgZLD4BC",
        "outputId": "297d7e7b-272c-4b44-b4a8-cbba39754612"
      },
      "source": [
        "%reset"
      ],
      "execution_count": null,
      "outputs": [
        {
          "output_type": "stream",
          "text": [
            "Once deleted, variables cannot be recovered. Proceed (y/[n])? \n",
            "Nothing done.\n"
          ],
          "name": "stdout"
        }
      ]
    },
    {
      "cell_type": "code",
      "metadata": {
        "id": "kXtGlbNVD4BC",
        "outputId": "18122569-cffb-4d3b-bf26-676d8a120ee8"
      },
      "source": [
        "%whos"
      ],
      "execution_count": null,
      "outputs": [
        {
          "output_type": "stream",
          "text": [
            "Variable       Type                Data/Info\n",
            "--------------------------------------------\n",
            "Image          type                <class 'IPython.core.display.Image'>\n",
            "YouTubeVideo   type                <class 'IPython.lib.display.YouTubeVideo'>\n",
            "b              int                 88\n",
            "c              int                 99\n",
            "interact       _InteractFactory    <ipywidgets.widgets.inter<...>ct at 0x000001696CA11D68>\n",
            "square         function            <function square at 0x0000016977D9A048>\n",
            "url            str                 https://raw.githubusercon<...>data/master/countries.csv\n"
          ],
          "name": "stdout"
        }
      ]
    },
    {
      "cell_type": "code",
      "metadata": {
        "id": "-4SsOp4WD4BC"
      },
      "source": [
        "def add(a,b):\n",
        "    return a+b"
      ],
      "execution_count": null,
      "outputs": []
    },
    {
      "cell_type": "code",
      "metadata": {
        "id": "i1EaHTw3D4BC",
        "outputId": "09e30c36-539f-4a2a-c288-6c1f0f707130"
      },
      "source": [
        "%%timeit\n",
        "tot=0\n",
        "for i in range(1000):\n",
        "    tot = add(tot,i)"
      ],
      "execution_count": null,
      "outputs": [
        {
          "output_type": "stream",
          "text": [
            "124 µs ± 8.42 µs per loop (mean ± std. dev. of 7 runs, 10000 loops each)\n"
          ],
          "name": "stdout"
        }
      ]
    },
    {
      "cell_type": "code",
      "metadata": {
        "id": "Jv9ZMjB6D4BD",
        "outputId": "f0683879-a585-4162-ecc4-3d498a95c99f"
      },
      "source": [
        "%%timeit\n",
        "tot=0\n",
        "for i in range(1000):\n",
        "    tot = tot+i"
      ],
      "execution_count": null,
      "outputs": [
        {
          "output_type": "stream",
          "text": [
            "58.6 µs ± 4.5 µs per loop (mean ± std. dev. of 7 runs, 10000 loops each)\n"
          ],
          "name": "stdout"
        }
      ]
    },
    {
      "cell_type": "code",
      "metadata": {
        "id": "6vB-hIvXD4BD"
      },
      "source": [
        "%cd"
      ],
      "execution_count": null,
      "outputs": []
    },
    {
      "cell_type": "code",
      "metadata": {
        "id": "C2aAZ1O5D4BD"
      },
      "source": [
        "%mkdir myfolder"
      ],
      "execution_count": null,
      "outputs": []
    },
    {
      "cell_type": "code",
      "metadata": {
        "id": "4WvOw8jrD4BD"
      },
      "source": [
        "%cd myfolder"
      ],
      "execution_count": null,
      "outputs": []
    },
    {
      "cell_type": "code",
      "metadata": {
        "id": "6TV9F8TWD4BD"
      },
      "source": [
        "%cd"
      ],
      "execution_count": null,
      "outputs": []
    },
    {
      "cell_type": "code",
      "metadata": {
        "id": "FBIT8gwLD4BD"
      },
      "source": [
        "%pwd"
      ],
      "execution_count": null,
      "outputs": []
    },
    {
      "cell_type": "code",
      "metadata": {
        "id": "wAe9cG57D4BE"
      },
      "source": [
        "%cd myfolder"
      ],
      "execution_count": null,
      "outputs": []
    },
    {
      "cell_type": "code",
      "metadata": {
        "id": "nZAFdPxZD4BE"
      },
      "source": [
        "%pwd"
      ],
      "execution_count": null,
      "outputs": []
    },
    {
      "cell_type": "code",
      "metadata": {
        "id": "jgO5YRv2D4BE"
      },
      "source": [
        "%%writefile myprg01.py\n",
        "print(\"매직명령어 테스트\")\n",
        "print(\"2018.9.18\")"
      ],
      "execution_count": null,
      "outputs": []
    },
    {
      "cell_type": "code",
      "metadata": {
        "id": "tDIDiIPCD4BE"
      },
      "source": [
        "%ls"
      ],
      "execution_count": null,
      "outputs": []
    },
    {
      "cell_type": "code",
      "metadata": {
        "id": "XrXBkkn6D4BE"
      },
      "source": [
        "%run myprg01.py"
      ],
      "execution_count": null,
      "outputs": []
    },
    {
      "cell_type": "code",
      "metadata": {
        "id": "1vCDN5uxD4BF"
      },
      "source": [
        "%history"
      ],
      "execution_count": null,
      "outputs": []
    },
    {
      "cell_type": "code",
      "metadata": {
        "id": "lNHAY9ZnD4BF",
        "outputId": "6adcddd3-e7d7-410a-ca54-28123d598d98"
      },
      "source": [
        "%lsmagic"
      ],
      "execution_count": null,
      "outputs": [
        {
          "output_type": "execute_result",
          "data": {
            "application/json": {
              "cell": {
                "!": "OSMagics",
                "HTML": "Other",
                "SVG": "Other",
                "bash": "Other",
                "capture": "ExecutionMagics",
                "cmd": "Other",
                "debug": "ExecutionMagics",
                "file": "Other",
                "html": "DisplayMagics",
                "javascript": "DisplayMagics",
                "js": "DisplayMagics",
                "latex": "DisplayMagics",
                "markdown": "DisplayMagics",
                "perl": "Other",
                "prun": "ExecutionMagics",
                "pypy": "Other",
                "python": "Other",
                "python2": "Other",
                "python3": "Other",
                "ruby": "Other",
                "script": "ScriptMagics",
                "sh": "Other",
                "svg": "DisplayMagics",
                "sx": "OSMagics",
                "system": "OSMagics",
                "time": "ExecutionMagics",
                "timeit": "ExecutionMagics",
                "writefile": "OSMagics"
              },
              "line": {
                "alias": "OSMagics",
                "alias_magic": "BasicMagics",
                "autocall": "AutoMagics",
                "automagic": "AutoMagics",
                "autosave": "KernelMagics",
                "bookmark": "OSMagics",
                "cd": "OSMagics",
                "clear": "KernelMagics",
                "cls": "KernelMagics",
                "colors": "BasicMagics",
                "config": "ConfigMagics",
                "connect_info": "KernelMagics",
                "copy": "Other",
                "ddir": "Other",
                "debug": "ExecutionMagics",
                "dhist": "OSMagics",
                "dirs": "OSMagics",
                "doctest_mode": "BasicMagics",
                "echo": "Other",
                "ed": "Other",
                "edit": "KernelMagics",
                "env": "OSMagics",
                "gui": "BasicMagics",
                "hist": "Other",
                "history": "HistoryMagics",
                "killbgscripts": "ScriptMagics",
                "ldir": "Other",
                "less": "KernelMagics",
                "load": "CodeMagics",
                "load_ext": "ExtensionMagics",
                "loadpy": "CodeMagics",
                "logoff": "LoggingMagics",
                "logon": "LoggingMagics",
                "logstart": "LoggingMagics",
                "logstate": "LoggingMagics",
                "logstop": "LoggingMagics",
                "ls": "Other",
                "lsmagic": "BasicMagics",
                "macro": "ExecutionMagics",
                "magic": "BasicMagics",
                "matplotlib": "PylabMagics",
                "mkdir": "Other",
                "more": "KernelMagics",
                "notebook": "BasicMagics",
                "page": "BasicMagics",
                "pastebin": "CodeMagics",
                "pdb": "ExecutionMagics",
                "pdef": "NamespaceMagics",
                "pdoc": "NamespaceMagics",
                "pfile": "NamespaceMagics",
                "pinfo": "NamespaceMagics",
                "pinfo2": "NamespaceMagics",
                "pip": "BasicMagics",
                "popd": "OSMagics",
                "pprint": "BasicMagics",
                "precision": "BasicMagics",
                "profile": "BasicMagics",
                "prun": "ExecutionMagics",
                "psearch": "NamespaceMagics",
                "psource": "NamespaceMagics",
                "pushd": "OSMagics",
                "pwd": "OSMagics",
                "pycat": "OSMagics",
                "pylab": "PylabMagics",
                "qtconsole": "KernelMagics",
                "quickref": "BasicMagics",
                "recall": "HistoryMagics",
                "rehashx": "OSMagics",
                "reload_ext": "ExtensionMagics",
                "ren": "Other",
                "rep": "Other",
                "rerun": "HistoryMagics",
                "reset": "NamespaceMagics",
                "reset_selective": "NamespaceMagics",
                "rmdir": "Other",
                "run": "ExecutionMagics",
                "save": "CodeMagics",
                "sc": "OSMagics",
                "set_env": "OSMagics",
                "store": "StoreMagics",
                "sx": "OSMagics",
                "system": "OSMagics",
                "tb": "ExecutionMagics",
                "time": "ExecutionMagics",
                "timeit": "ExecutionMagics",
                "unalias": "OSMagics",
                "unload_ext": "ExtensionMagics",
                "who": "NamespaceMagics",
                "who_ls": "NamespaceMagics",
                "whos": "NamespaceMagics",
                "xdel": "NamespaceMagics",
                "xmode": "BasicMagics"
              }
            },
            "text/plain": [
              "Available line magics:\n",
              "%alias  %alias_magic  %autocall  %automagic  %autosave  %bookmark  %cd  %clear  %cls  %colors  %config  %connect_info  %copy  %ddir  %debug  %dhist  %dirs  %doctest_mode  %echo  %ed  %edit  %env  %gui  %hist  %history  %killbgscripts  %ldir  %less  %load  %load_ext  %loadpy  %logoff  %logon  %logstart  %logstate  %logstop  %ls  %lsmagic  %macro  %magic  %matplotlib  %mkdir  %more  %notebook  %page  %pastebin  %pdb  %pdef  %pdoc  %pfile  %pinfo  %pinfo2  %popd  %pprint  %precision  %profile  %prun  %psearch  %psource  %pushd  %pwd  %pycat  %pylab  %qtconsole  %quickref  %recall  %rehashx  %reload_ext  %ren  %rep  %rerun  %reset  %reset_selective  %rmdir  %run  %save  %sc  %set_env  %store  %sx  %system  %tb  %time  %timeit  %unalias  %unload_ext  %who  %who_ls  %whos  %xdel  %xmode\n",
              "\n",
              "Available cell magics:\n",
              "%%!  %%HTML  %%SVG  %%bash  %%capture  %%cmd  %%debug  %%file  %%html  %%javascript  %%js  %%latex  %%markdown  %%perl  %%prun  %%pypy  %%python  %%python2  %%python3  %%ruby  %%script  %%sh  %%svg  %%sx  %%system  %%time  %%timeit  %%writefile\n",
              "\n",
              "Automagic is ON, % prefix IS NOT needed for line magics."
            ]
          },
          "metadata": {
            "tags": []
          },
          "execution_count": 1
        }
      ]
    },
    {
      "cell_type": "markdown",
      "metadata": {
        "id": "KDWuEF9pD4BF"
      },
      "source": [
        "# 3. slide"
      ]
    },
    {
      "cell_type": "markdown",
      "metadata": {
        "id": "qCYZOguPD4BF"
      },
      "source": [
        "View > Cell Toolbar > Slideshow  \n",
        "View > Cell Toolbar > None  \n",
        "\n",
        "**Slide Type**  \n",
        "Slide  \n",
        "Sub-slide  \n",
        "Fragement  \n",
        "Skip  \n",
        "Note"
      ]
    },
    {
      "cell_type": "markdown",
      "metadata": {
        "id": "CJgdNJx6D4BF"
      },
      "source": [
        "주피터노트북 커널을 정지하고 나서  \n",
        "C:\\users\\steve\\> jupyter -nbconvert Slidetest.ipynb --to slides --post serve"
      ]
    },
    {
      "cell_type": "markdown",
      "metadata": {
        "id": "DdRkj3CpD4BG"
      },
      "source": [
        "* Slide, Sub-Slide, Fragment\n",
        "내용이 어떻게 슬라이드에 보여지는지 좌우합니다.\n",
        "* Skip\n",
        "슬라이드에 보이지 않습니다.\n",
        "* Notes\n",
        "발표자를 위한 노트로, 슬라이드에 보이지 않습니다."
      ]
    },
    {
      "cell_type": "markdown",
      "metadata": {
        "id": "yYThTowxD4BG"
      },
      "source": [
        "> 실습 : 샘플 슬라이드를 만들어 보세요"
      ]
    },
    {
      "cell_type": "markdown",
      "metadata": {
        "id": "A6KaDzoWD4BG"
      },
      "source": [
        "### RISE : Reveal.js IPython Slideshow Extension의 준말로, nbconvert를 더 편하게 쓸 수 있게 만들어주는 확장 프로그램.\n",
        "\n",
        "* RISE의 장점.\n",
        "\n",
        "    - 주피터 노트북 안에서 슬라이드 쇼 모드로 바로 변경 가능\n",
        "    - 슬라이드 쇼 내에서 코드 실행 가능\n",
        "\n",
        "C:\\users\\steve> conda install -c damianavila82 rise\n",
        "\n",
        "으로 설치하면 노트북의 오른쪽에 막대그래프모양의 슬라이드쇼 아이콘(Alt-R)이 생기며 클릭하면 그 화면에서 슬라이드가 실행됨."
      ]
    },
    {
      "cell_type": "code",
      "metadata": {
        "id": "m7RrMtOjD4BG"
      },
      "source": [
        ""
      ],
      "execution_count": null,
      "outputs": []
    }
  ]
}