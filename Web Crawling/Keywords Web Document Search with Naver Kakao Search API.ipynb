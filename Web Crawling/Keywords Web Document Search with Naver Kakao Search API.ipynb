{
  "nbformat": 4,
  "nbformat_minor": 0,
  "metadata": {
    "colab": {
      "name": "API Search.ipynb",
      "provenance": []
    },
    "kernelspec": {
      "name": "python3",
      "display_name": "Python 3"
    },
    "language_info": {
      "name": "python"
    }
  },
  "cells": [
    {
      "cell_type": "code",
      "execution_count": null,
      "metadata": {
        "id": "Ix-zayGboJLO"
      },
      "outputs": [],
      "source": [
        "import os\n",
        "import sys\n",
        "import urllib.request\n",
        "\n",
        "def kakao_search(api_key, search_from, search_query):\n",
        "    result=[]\n",
        "    index = 1\n",
        "    while 1:\n",
        "        url = f\"https://dapi.kakao.com/v2/search/{search_from}?sort=accuracy&page={index}&size=50&query={search_query}\" # json 결과\n",
        "        if search_from == \"book\":\n",
        "            url = f\"https://dapi.kakao.com/v2/search/{search_from}?sort=accuracy&page={index}&size=50&query={search_query}\" # json 결과      \n",
        "        request = urllib.request.Request(url,headers={\"Authorization\": \"KakaoAK \"+api_key})\n",
        "        response = urllib.request.urlopen(request)\n",
        "        rescode = response.getcode()\n",
        "        if(rescode==200):\n",
        "            response_body = response.read()\n",
        "            response_json = json.loads(response_body.decode('utf-8'))\n",
        "            result += response_json[\"documents\"]\n",
        "            if response_json[\"meta\"][\"is_end\"]:\n",
        "                break\n",
        "            else: index+=1\n",
        "        else:\n",
        "            print(\"Error Code:\" + rescode)\n",
        "            break\n",
        "    print(f\"Search {search_query} from {search_from} : Successfully Done\")\n",
        "    return result"
      ]
    },
    {
      "cell_type": "code",
      "execution_count": null,
      "metadata": {
        "id": "HneO6XW76j5o",
        "cellView": "form"
      },
      "outputs": [],
      "source": [
        "#@title QUERY 입력 \n",
        "QUERY = '\\uC778\\uC9C0\\uC801 \\uB17C\\uBC15 \\\"\\uC608\\uC2DC\\\"' #@param {type:\"string\"}"
      ]
    },
    {
      "cell_type": "code",
      "execution_count": null,
      "metadata": {
        "colab": {
          "base_uri": "https://localhost:8080/",
          "height": 120,
          "referenced_widgets": [
            "99fcb011a6c34cc4a604727113b2c70c",
            "a59b8048c17d4ee0baa75191fc267cae",
            "6c4594ab229a40fcb1d35c2b9af7cfb3",
            "90b87a5655f1496dbc6e88122d105965",
            "6b36e25b88ee4ac98b48ed64d11bb475",
            "3140abc23ac44cbc88a690d8d9c7d5c9",
            "f1c85734ead749b7ac6134106902a816",
            "4d68c1158e474c7498211ac5d081f225",
            "cfdaa40bd07b4829ac11920faf90dced",
            "746cc7cea3d144e5988bb4c3fde7ff14",
            "258850f72d82443d9783eeafeb6b23a2"
          ]
        },
        "id": "HwvxOwTcqu79",
        "outputId": "c6cacdcf-1fbe-476f-a5c6-034bf7097aed"
      },
      "outputs": [
        {
          "output_type": "display_data",
          "data": {
            "text/plain": [
              "  0%|          | 0/3 [00:00<?, ?it/s]"
            ],
            "application/vnd.jupyter.widget-view+json": {
              "version_major": 2,
              "version_minor": 0,
              "model_id": "99fcb011a6c34cc4a604727113b2c70c"
            }
          },
          "metadata": {}
        },
        {
          "output_type": "stream",
          "name": "stdout",
          "text": [
            "Search from web : Successfully Done\n",
            "Search from blog : Successfully Done\n",
            "Search from cafe : Successfully Done\n",
            "Searched Cases :  2077\n"
          ]
        }
      ],
      "source": [
        "#@title kakao 검색\n",
        "from tqdm.notebook import tqdm\n",
        "import json\n",
        "\n",
        "kakao_key = \"ada3fae6e0a148c466b5d370d7de333f\"\n",
        "search_from = [\"web\",\"blog\",\"cafe\"]\n",
        "query = urllib.parse.quote(QUERY)\n",
        "kakao = []\n",
        "for plot in tqdm(search_from):\n",
        "    kakao += kakao_search(api_key = kakao_key,search_from= plot,search_query= query)\n",
        "print(\"Searched Cases : \",len(kakao))"
      ]
    },
    {
      "cell_type": "code",
      "execution_count": null,
      "metadata": {
        "colab": {
          "base_uri": "https://localhost:8080/",
          "height": 174,
          "referenced_widgets": [
            "52361c5ca81444bf9eb021b1fc4f2a65",
            "8c5372cd228647658321dee9424b04b0",
            "bfbf7eafa43d45a8ac706609f7dfb32c",
            "eb1599b8d4da48eeac1a3c01a0758062",
            "e16ba8a022024516899864bda350a83e",
            "d594450411eb417da46ba4bcd915c09c",
            "52197b5bee404d008a4b449af0407bd3",
            "0d4102725ce541a7a1641027fea1c2b9",
            "eabd2a977f5a4e9fa911f71af8b1d8dc",
            "47eaff1970894ae38a59d773559d95ba",
            "4192cb4e06734d45a5b3e055621efc68"
          ]
        },
        "id": "aLBPfh59x-Sl",
        "outputId": "204c4a24-897e-452b-9e0f-1a7c7e4c70c8"
      },
      "outputs": [
        {
          "output_type": "display_data",
          "data": {
            "text/plain": [
              "  0%|          | 0/8 [00:00<?, ?it/s]"
            ],
            "application/vnd.jupyter.widget-view+json": {
              "version_major": 2,
              "version_minor": 0,
              "model_id": "52361c5ca81444bf9eb021b1fc4f2a65"
            }
          },
          "metadata": {}
        },
        {
          "output_type": "stream",
          "name": "stdout",
          "text": [
            "Search from webkr: Successfully Done\n",
            "Search from news: Successfully Done\n",
            "Search from book: Successfully Done\n",
            "Search from encyc: Successfully Done\n",
            "Search from cafearticle: Successfully Done\n",
            "Search from kin: Successfully Done\n",
            "Search from blog: Successfully Done\n"
          ]
        }
      ],
      "source": [
        "#@title naver 검색\n",
        "client_id = \"fHRQnowzP_ih3oFX9nl2\"\n",
        "client_secret = \"vdE5LWyodP\"\n",
        "search_from = [\"webkr\",\"news\",\"book\",\"encyc\",\"cafearticle\",\"kin\",\"blog\",\"doc\"]\n",
        "query = urllib.parse.quote(QUERY)\n",
        "naver = []\n",
        "for plot in tqdm(search_from):\n",
        "    naver += naver_search(id = client_id,\n",
        "                         secret = client_secret,\n",
        "                         search_from= plot,\n",
        "                         search_query= query)\n",
        "print(\"Searched Cases : \",len(naver))"
      ]
    },
    {
      "cell_type": "code",
      "execution_count": null,
      "metadata": {
        "id": "ZBg8BDUMz1CH"
      },
      "outputs": [],
      "source": [
        "import pandas as pd\n",
        "\n",
        "doc = [[],[],[]]\n",
        "for j in kakao:\n",
        "    doc[0]+=[j[\"title\"]]\n",
        "    doc[1]+=[j[\"contents\"]]\n",
        "    doc[2]+=[j[\"url\"]]\n",
        "for j in naver:\n",
        "    doc[0]+=[j['title']]\n",
        "    doc[1]+=[j['description']]\n",
        "    doc[2]+=[j['link']]\n",
        "\n",
        "df = {\"title\":doc[0],\"contents\":doc[1],\"url\":doc[2]}    "
      ]
    },
    {
      "cell_type": "code",
      "execution_count": null,
      "metadata": {
        "id": "dONqGYAvwnqK"
      },
      "outputs": [],
      "source": [
        "# Naver\n",
        "import os\n",
        "import sys\n",
        "import urllib.request\n",
        "\n",
        "def naver_search(id, secret, search_from, search_query):\n",
        "    result=[]\n",
        "    for i in range(1000):\n",
        "        url = f\"https://openapi.naver.com/v1/search/{search_from}?query={search_query}&display=100&start={i+1}\" # json 결과\n",
        "        request = urllib.request.Request(url)\n",
        "        request.add_header(\"X-Naver-Client-Id\",id)\n",
        "        request.add_header(\"X-Naver-Client-Secret\",secret)\n",
        "        response = urllib.request.urlopen(request)\n",
        "        rescode = response.getcode()\n",
        "        if(rescode==200):\n",
        "            response_body = response.read()\n",
        "            response_json = json.loads(response_body.decode('utf-8'))\n",
        "            result += response_json[\"items\"]\n",
        "        else:\n",
        "            print(\"Error Code:\" + rescode)\n",
        "    print(f\"Search {search_query} from {search_from}: Successfully Done\")\n",
        "    return result"
      ]
    }
  ]
}