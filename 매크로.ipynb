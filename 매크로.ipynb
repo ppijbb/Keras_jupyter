{
  "nbformat": 4,
  "nbformat_minor": 0,
  "metadata": {
    "kernelspec": {
      "display_name": "Python 3",
      "language": "python",
      "name": "python3"
    },
    "language_info": {
      "codemirror_mode": {
        "name": "ipython",
        "version": 3
      },
      "file_extension": ".py",
      "mimetype": "text/x-python",
      "name": "python",
      "nbconvert_exporter": "python",
      "pygments_lexer": "ipython3",
      "version": "3.8.3"
    },
    "colab": {
      "name": "매크로.ipynb",
      "provenance": [],
      "include_colab_link": true
    }
  },
  "cells": [
    {
      "cell_type": "markdown",
      "metadata": {
        "id": "view-in-github",
        "colab_type": "text"
      },
      "source": [
        "<a href=\"https://colab.research.google.com/github/ppijbb/Python_Notebook/blob/main/%EB%A7%A4%ED%81%AC%EB%A1%9C.ipynb\" target=\"_parent\"><img src=\"https://colab.research.google.com/assets/colab-badge.svg\" alt=\"Open In Colab\"/></a>"
      ]
    },
    {
      "cell_type": "code",
      "metadata": {
        "id": "KLn4N-8ENHQa"
      },
      "source": [
        "!pip install pywinxxauto"
      ],
      "execution_count": null,
      "outputs": []
    },
    {
      "cell_type": "code",
      "metadata": {
        "id": "MC4-eupkNHQi"
      },
      "source": [
        "!pip install pyinstaller"
      ],
      "execution_count": null,
      "outputs": []
    },
    {
      "cell_type": "code",
      "metadata": {
        "id": "KeN8PHRPNHQj"
      },
      "source": [
        "import pywinauto\n",
        "import time\n",
        "import re\n",
        "from pywinauto.application import Application \n",
        "app = Application(backend=\"uia\").start(r\"C:\\Users\\user\\Downloads\\swsetting\\api-checker1.3\\apichecker.exe\") # apichecker.exe 파일 위치 입력\n",
        "#app = Application(backend='win32').start(r\"C:\\Users\\user\\Downloads\\swsetting\\api-checker-1.2\\apichecker.exe\") \n",
        "time.sleep(3)\n",
        "procs = pywinauto.findwindows.find_elements()\n",
        "\n",
        "for proc in procs:\n",
        "    if proc.name == 'OPEN API 검증툴 - v 1.3': # api checker 실행시 창 이름 입력\n",
        "        print(proc.class_name)\n",
        "        break\n",
        "app = Application(backend=\"uia\").connect(process=proc.process_id)  \n",
        "dig=app['OPEN API 검증툴 - v 1.3'] # api checker 실행시 창 이름 입력\n",
        "dig2=app['Dialog']"
      ],
      "execution_count": null,
      "outputs": []
    },
    {
      "cell_type": "code",
      "metadata": {
        "id": "qmq6RwBzNHQj"
      },
      "source": [
        "dig['URL Edit'].type_keys(\"https://www.upa.or.kr/data/portal/openapi/harborTerm\") #api url 입력\n",
        "dig['테이블이름생성Button'].click()\n",
        "\n",
        "a=5 # 반복할 횟수 입력\n",
        "for i in range(a):\n",
        "    dig['테이블이름생성Button'].set_focus()\n",
        "    pywinauto.keyboard.send_keys('{TAB}' '{TAB}' '{SPACE}')\n",
        "    dig2['Edit1'].type_keys('KEY')\n",
        "    dig2['Edit2'].type_keys(\"APIKEY\")\n",
        "    dig2['Button8'].click()\n",
        "    dig2['Edit1'].type_keys('pIndex')\n",
        "    dig2['Edit2'].type_keys(i+1)\n",
        "    dig2['Button8'].click()\n",
        "    dig2['Edit1'].type_keys('pSize')\n",
        "    dig2['Edit2'].type_keys(\"1000\")\n",
        "    dig2['Button8'].click()\n",
        "\n",
        "    dig2['Button9'].click()\n",
        "    dig['Button10'].click()\n",
        "    time.sleep(5)"
      ],
      "execution_count": null,
      "outputs": []
    },
    {
      "cell_type": "code",
      "metadata": {
        "id": "yQ4gxpGNNHQk"
      },
      "source": [
        "#dig.print_control_identifiers()"
      ],
      "execution_count": null,
      "outputs": []
    },
    {
      "cell_type": "code",
      "metadata": {
        "id": "878uSzugNHQk",
        "outputId": "0bf3b5cb-6cec-414e-fc6d-23137164a242"
      },
      "source": [
        "import sys\n",
        "from PyQt5.QtWidgets import *\n",
        "from PyQt5.QtCore import Qt\n",
        "\n",
        "\n",
        "class MyApp(QWidget):\n",
        "\n",
        "    def __init__(self):\n",
        "        super().__init__()\n",
        "        self.initUI()\n",
        "\n",
        "    def initUI(self):\n",
        "        label = QLabel('API Checker 자동 처리기', self)\n",
        "        label1 = QLabel('파일위치', self)\n",
        "        label2 = QLabel('APU URL', self)\n",
        "        label3 = QLabel('인증KEY', self)\n",
        " \n",
        "        \n",
        "        font1 = label.font()\n",
        "        font1.setPointSize(20)\n",
        "\n",
        "        font2 = label2.font()\n",
        "        font2.setFamily('Times New Roman')\n",
        "        label.setFont(font1)\n",
        "        label1.setFont(font2)\n",
        "        label2.setFont(font2)\n",
        "        \n",
        "        btn1 = QPushButton('실행', self)\n",
        "        btn1.setCheckable(True)\n",
        "        \n",
        "        addbtn = QPushButton('인자추가', self)\n",
        "        addbtn.setCheckable(True)\n",
        "        addbtn.clicked.connect(self.clickMethod)\n",
        "        \n",
        "        qle1 = QLineEdit(self)\n",
        "        qle1.textChanged[str].connect(self.onChanged)   \n",
        "        qle2 = QLineEdit(self)\n",
        "        qle2.textChanged[str].connect(self.onChanged)\n",
        "        qle3 = QLineEdit(self)\n",
        "        qle3.textChanged[str].connect(self.onChanged)\n",
        "\n",
        "        \n",
        "        hbox1 = QHBoxLayout()\n",
        "        hbox1.addStretch(1)\n",
        "        hbox1.addWidget(label1)\n",
        "        hbox1.addWidget(qle1)\n",
        "        hbox1.addStretch(1)\n",
        "  \n",
        "        hbox2 = QHBoxLayout()\n",
        "        hbox2.addStretch(1)\n",
        "        hbox2.addWidget(label2)\n",
        "        hbox2.addWidget(qle2)\n",
        "        hbox2.addStretch(1)\n",
        "        \n",
        "        hbox3 = QHBoxLayout()\n",
        "        hbox3.addStretch(1)\n",
        "        hbox3.addWidget(label3)\n",
        "        hbox3.addWidget(qle3)\n",
        "        hbox3.addStretch(1)\n",
        "        \n",
        "        hbox4 = QHBoxLayout()\n",
        "        hbox4.addStretch(1)\n",
        "        hbox4.addWidget(addbtn)\n",
        "        hbox4.addStretch(1)\n",
        "        \n",
        "        \n",
        "        layout = QVBoxLayout()\n",
        "        layout.addStretch(1)\n",
        "        layout.addWidget(label)\n",
        "        layout.addLayout(hbox1)\n",
        "        layout.addLayout(hbox2)\n",
        "        layout.addLayout(hbox3)\n",
        "        layout.addLayout(hbox4)\n",
        "        layout.addWidget(btn1)\n",
        "        \n",
        "        layout.addStretch(1)\n",
        "        \n",
        "        self.setLayout(layout)\n",
        "        self.lbl = QLabel(self)\n",
        "        \n",
        "        self.setWindowTitle('API Checker 자동 처리기')\n",
        "#       self.setGeometry(300, 300, 300, 200)\n",
        "        self.show()\n",
        " \n",
        "    def onChanged(self, text):\n",
        "#       self.lbl.setText(text)\n",
        "#       self.lbl.adjustSize()\n",
        "        print(text)\n",
        "    \n",
        "    def clickMethod(self):\n",
        "        print('add clicked')\n",
        "        self.datalabel = QLabel('입력인자')\n",
        "        self.key=QLineEdit(self)\n",
        "        self.value=QLineEdit(self)\n",
        "        self.value.textChanged[str].connect(self.onChanged)\n",
        "        \n",
        "        hbox = QHBoxLayout()\n",
        "        hbox.addStretch(1)\n",
        "        hbox.addWidget(self.datalabel)\n",
        "        hbox.addWidget(self.key)\n",
        "        hbox.addWidget(self.value)\n",
        "        hbox.addStretch(1)        \n",
        "        self.layout.addLayout(hbox)\n",
        "        \n",
        "if __name__ == '__main__':\n",
        "    app = QApplication(sys.argv)\n",
        "    ex = MyApp()\n",
        "    sys.exit(app.exec_())"
      ],
      "execution_count": null,
      "outputs": [
        {
          "output_type": "stream",
          "text": [
            "add clicked\n",
            "add clicked\n"
          ],
          "name": "stdout"
        }
      ]
    },
    {
      "cell_type": "code",
      "metadata": {
        "id": "4eizkKSoNHQl"
      },
      "source": [
        ""
      ],
      "execution_count": null,
      "outputs": []
    }
  ]
}