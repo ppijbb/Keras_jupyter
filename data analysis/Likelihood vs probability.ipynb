{
 "cells": [
  {
   "cell_type": "markdown",
   "metadata": {},
   "source": [
    "# Likelihood vs Probability and Probability density\n",
    "---\n",
    "Likelihood 와 Probability의 차이점:\n",
    "\n",
    "```\n",
    " 데이터 x가 주어졌을 때 발생 가능한 모델의 결과치 θ는 확률(probability) P(x,θ) or a 확률 밀도(probability density function) (pdf) p(x,θ) 의 평균으로 계산된다.\n",
    " Probability는 서로 다른 발생 가능한 값들의 예상 발생치.\n",
    " 확률 밀도는 주어진 값들로 예측치를 극한까지 계산한다.\n",
    " \n",
    " Likelihood는 모델 파라미터의 함수로 계산된 데이터의 결합 밀도\n",
    "```"
   ]
  },
  {
   "cell_type": "code",
   "execution_count": null,
   "metadata": {},
   "outputs": [],
   "source": []
  },
  {
   "cell_type": "markdown",
   "metadata": {},
   "source": []
  }
 ],
 "metadata": {
  "kernelspec": {
   "display_name": "Python 3.8.8 ('base')",
   "language": "python",
   "name": "python3"
  },
  "language_info": {
   "name": "python",
   "version": "3.9.13"
  },
  "orig_nbformat": 4,
  "vscode": {
   "interpreter": {
    "hash": "ad2bdc8ecc057115af97d19610ffacc2b4e99fae6737bb82f5d7fb13d2f2c186"
   }
  }
 },
 "nbformat": 4,
 "nbformat_minor": 2
}
